{
 "cells": [
  {
   "cell_type": "code",
   "execution_count": 35,
   "id": "75abaa22",
   "metadata": {},
   "outputs": [],
   "source": [
    "# Daily weather data analysis using decision tress classifier \n",
    "# Importing the necessary libraries\n",
    "import pandas as pd \n",
    "from sklearn.model_selection import train_test_split\n",
    "from sklearn.tree import DecisionTreeClassifier\n",
    "from sklearn.metrics import accuracy_score "
   ]
  },
  {
   "cell_type": "code",
   "execution_count": 11,
   "id": "4811586e",
   "metadata": {},
   "outputs": [
    {
     "name": "stdout",
     "output_type": "stream",
     "text": [
      "Columns are:  Index(['number', 'air_pressure_9am', 'air_temp_9am', 'avg_wind_direction_9am',\n",
      "       'avg_wind_speed_9am', 'max_wind_direction_9am', 'max_wind_speed_9am',\n",
      "       'rain_accumulation_9am', 'rain_duration_9am', 'relative_humidity_9am',\n",
      "       'relative_humidity_3pm'],\n",
      "      dtype='object')\n",
      "data: \n",
      "       number  air_pressure_9am  air_temp_9am  avg_wind_direction_9am  \\\n",
      "0          0        918.060000     74.822000              271.100000   \n",
      "1          1        917.347688     71.403843              101.935179   \n",
      "2          2        923.040000     60.638000               51.000000   \n",
      "3          3        920.502751     70.138895              198.832133   \n",
      "4          4        921.160000     44.294000              277.800000   \n",
      "...      ...               ...           ...                     ...   \n",
      "1090    1090        918.900000     63.104000              192.900000   \n",
      "1091    1091        918.710000     49.568000              241.600000   \n",
      "1092    1092        916.600000     71.096000              189.300000   \n",
      "1093    1093        912.600000     58.406000              172.700000   \n",
      "1094    1094        921.530000     77.702000               97.100000   \n",
      "\n",
      "      avg_wind_speed_9am  max_wind_direction_9am  max_wind_speed_9am  \\\n",
      "0               2.080354              295.400000            2.863283   \n",
      "1               2.443009              140.471548            3.533324   \n",
      "2              17.067852               63.700000           22.100967   \n",
      "3               4.337363              211.203341            5.190045   \n",
      "4               1.856660              136.500000            2.863283   \n",
      "...                  ...                     ...                 ...   \n",
      "1090            3.869906              207.300000            5.212070   \n",
      "1091            1.811921              227.400000            2.371156   \n",
      "1092            3.064608              200.800000            3.892276   \n",
      "1093            3.825167              189.100000            4.764682   \n",
      "1094            3.265932              125.900000            4.451511   \n",
      "\n",
      "      rain_accumulation_9am  rain_duration_9am  relative_humidity_9am  \\\n",
      "0                       0.0                0.0              42.420000   \n",
      "1                       0.0                0.0              24.328697   \n",
      "2                       0.0               20.0               8.900000   \n",
      "3                       0.0                0.0              12.189102   \n",
      "4                       8.9            14730.0              92.410000   \n",
      "...                     ...                ...                    ...   \n",
      "1090                    0.0                0.0              26.020000   \n",
      "1091                    0.0                0.0              90.350000   \n",
      "1092                    0.0                0.0              45.590000   \n",
      "1093                    0.0                0.0              64.840000   \n",
      "1094                    0.0                0.0              14.560000   \n",
      "\n",
      "      relative_humidity_3pm  \n",
      "0                 36.160000  \n",
      "1                 19.426597  \n",
      "2                 14.460000  \n",
      "3                 12.742547  \n",
      "4                 76.740000  \n",
      "...                     ...  \n",
      "1090              38.180000  \n",
      "1091              73.340000  \n",
      "1092              52.310000  \n",
      "1093              58.280000  \n",
      "1094              15.100000  \n",
      "\n",
      "[1095 rows x 11 columns]\n",
      "Null data: \n",
      "       number  air_pressure_9am  air_temp_9am  avg_wind_direction_9am  \\\n",
      "16        16        917.890000           NaN              169.200000   \n",
      "111      111        915.290000     58.820000              182.600000   \n",
      "177      177        915.900000           NaN              183.300000   \n",
      "262      262        923.596607     58.380598               47.737753   \n",
      "277      277        920.480000     62.600000              194.400000   \n",
      "334      334        916.230000     75.740000              149.100000   \n",
      "358      358        917.440000     58.514000               55.100000   \n",
      "361      361        920.444946     65.801845               49.823346   \n",
      "381      381        918.480000     66.542000               90.900000   \n",
      "409      409               NaN     67.853833               65.880616   \n",
      "517      517        920.570000     53.600000              100.100000   \n",
      "519      519        916.250000     55.670000              176.400000   \n",
      "546      546               NaN     42.746000              251.100000   \n",
      "620      620        921.200000     56.786000              192.300000   \n",
      "625      625        912.400000     50.774000              171.600000   \n",
      "656      656        920.830000     66.344000                     NaN   \n",
      "670      670        910.920000     48.362000              156.500000   \n",
      "672      672        922.448945     72.863773                     NaN   \n",
      "705      705        911.900000     59.072000              199.800000   \n",
      "731      731        922.970166     51.391847               33.810942   \n",
      "737      737        917.895130     76.804690              104.771020   \n",
      "788      788        917.923442     73.249717               42.101739   \n",
      "840      840        918.043767           NaN              181.774042   \n",
      "848      848        915.250000     37.562000              246.500000   \n",
      "861      861        919.065408           NaN              172.303728   \n",
      "869      869               NaN     45.104000              259.000000   \n",
      "998      998        914.140000     71.240000                     NaN   \n",
      "1031    1031        922.669195           NaN               47.946284   \n",
      "1035    1035        919.670000     77.576000              171.800000   \n",
      "1063    1063        917.300185     65.790001                     NaN   \n",
      "1066    1066        919.564869     73.726732               68.704694   \n",
      "\n",
      "      avg_wind_speed_9am  max_wind_direction_9am  max_wind_speed_9am  \\\n",
      "16              2.192201              196.800000            2.930391   \n",
      "111            15.613841              189.000000                 NaN   \n",
      "177             4.719943              189.900000            5.346287   \n",
      "262            10.636273               67.145843           13.671423   \n",
      "277             2.751436                     NaN            3.869906   \n",
      "334             2.751436              187.500000            4.183078   \n",
      "358            10.021491                     NaN           12.705819   \n",
      "361            21.520177               61.886944           25.549112   \n",
      "381             3.467257               89.400000            4.406772   \n",
      "409             4.328594               78.570923            5.216734   \n",
      "517             4.697574                     NaN            6.285801   \n",
      "519             6.666081              188.200000                 NaN   \n",
      "546            12.929513              274.400000           17.604718   \n",
      "620             9.551734              201.400000           11.005745   \n",
      "625                  NaN              181.400000            4.831790   \n",
      "656            15.457255              189.400000           16.486248   \n",
      "670                  NaN              177.500000           16.128337   \n",
      "672             3.682370              214.196160            4.849450   \n",
      "705             1.275056              239.500000            1.834291   \n",
      "731                  NaN               59.290089           11.111555   \n",
      "737             1.632705               97.178763                 NaN   \n",
      "788             4.132698               64.284969            5.345258   \n",
      "840             0.964376              185.618601            1.570007   \n",
      "848            11.587349              258.700000                 NaN   \n",
      "861             2.639600              193.058141            3.326949   \n",
      "869             3.265932              275.000000            4.026492   \n",
      "998             1.722444              232.900000            2.326418   \n",
      "1031            7.969686               65.770066           10.262337   \n",
      "1035            6.554234              191.000000            8.164831   \n",
      "1063            1.879553              222.498226            2.692862   \n",
      "1066            3.551777              102.571616            4.861315   \n",
      "\n",
      "      rain_accumulation_9am  rain_duration_9am  relative_humidity_9am  \\\n",
      "16                    0.000           0.000000              48.990000   \n",
      "111                   0.000           0.000000              21.500000   \n",
      "177                   0.000           0.000000              29.260000   \n",
      "262                   0.000                NaN              17.990876   \n",
      "277                   0.000           0.000000              52.580000   \n",
      "334                     NaN        1480.000000              31.880000   \n",
      "358                   0.000           0.000000              13.880000   \n",
      "361                     NaN          40.364018              12.278715   \n",
      "381                     NaN           0.000000              20.640000   \n",
      "409                   0.000           0.000000              18.487385   \n",
      "517                   4.712       14842.000000              79.880000   \n",
      "519                   0.000           0.000000              72.550000   \n",
      "546                  14.627        7825.000000              87.870000   \n",
      "620                     NaN           0.000000              59.790000   \n",
      "625                   0.000           0.000000              86.840000   \n",
      "656                   0.000           0.000000              23.770000   \n",
      "670                   4.970       10560.000000              80.560000   \n",
      "672                   0.000           0.000000              16.753670   \n",
      "705                     NaN           0.000000              77.630000   \n",
      "731                   0.000           4.735034              34.807753   \n",
      "737                   0.000           0.000000              13.771311   \n",
      "788                   0.000                NaN               6.939692   \n",
      "840                   0.000           0.000000              11.911222   \n",
      "848                   3.171        2891.000000              91.000000   \n",
      "861                   0.000           0.000000              12.497839   \n",
      "869                   0.000          80.000000              85.270000   \n",
      "998                   0.000           0.000000              24.200000   \n",
      "1031                  0.000           0.000000              18.920805   \n",
      "1035                  0.000                NaN              56.860000   \n",
      "1063                  0.000           0.000000              14.972668   \n",
      "1066                    NaN           0.000000              11.657314   \n",
      "\n",
      "      relative_humidity_3pm  \n",
      "16                51.190000  \n",
      "111               29.690000  \n",
      "177               46.500000  \n",
      "262               16.461685  \n",
      "277               54.030000  \n",
      "334               32.900000  \n",
      "358               25.930000  \n",
      "361                7.618649  \n",
      "381               14.350000  \n",
      "409               20.356594  \n",
      "517               84.530000  \n",
      "519               74.390000  \n",
      "546               70.770000  \n",
      "620               77.750000  \n",
      "625               64.740000  \n",
      "656               51.630000  \n",
      "670               88.220000  \n",
      "672               17.804720  \n",
      "705               59.130000  \n",
      "731               18.418179  \n",
      "737               16.792455  \n",
      "788               18.793825  \n",
      "840               18.154358  \n",
      "848               90.780000  \n",
      "861               13.438518  \n",
      "869               90.260000  \n",
      "998               41.380000  \n",
      "1031              19.641841  \n",
      "1035              50.650000  \n",
      "1063              20.966267  \n",
      "1066              17.331823  \n"
     ]
    }
   ],
   "source": [
    "data=pd.read_csv(\"../data/data_weather.csv\")\n",
    "print(\"Columns are: \", data.columns)\n",
    "print(\"data: \\n\", data)\n",
    "print(\"Null data: \\n\", data[data.isnull().any(axis=1)])"
   ]
  },
  {
   "cell_type": "markdown",
   "id": "3f8bb1db",
   "metadata": {},
   "source": [
    "## Daily weather data description\n",
    "The file daily_weather.csv is a comma separated file that contains weather data. This data comes from a weather station. The weather station is equipped with censors that capture weather related measurements such as air temperature, air pressure and relative humidity. Data was collected for a period of 3 years, from september 2011 to September 2014, to ensure that sufficient data for different seasons and weather conditions is captured.\n",
    "Let us now check all teh columns of data.\n",
    "* Each row in data_weather.csv captures weather data for a separate day.\n",
    "* Sensor measurements from a weather station were captured at one-minute intervals. These measurements were then processed to generate values to describe daily weather. Since this dataset was created to classify low-humidity days Vs non-low-humidity days(that is, days with normal or high humidity), teh variables included are weather measurements in the morning, with one measurements namely relatively humidity, in the afternoon. The idea is to use the morning weather values to predict whether the day will be low humidity or not based on the afternoon measurements of relative humidity.\n",
    "* Each row consists of the following variables:\n",
    "    * number: unique number for each row\n",
    "    * air_pressure_9am: air pressure averaged over a period from 8:55am to 9:04am(Unit: hectopascals)\n",
    "    * air_temp_9am: air temperature averaged over a period from 8:55am to 9:04am(unit:fahreinheit)\n",
    "    * air_wind_direction_9am: wind direction averaged over a period from 8:55am to 9:04am(Unit: degrees, with 0 means coming from the north, and increasing clockwise)\n",
    "    * air_wind_speed_9am: wind speed averaged over a period from 8:55am to 9:04am(Unit:miles per hour)\n",
    "    * max_wind_direction_9am: wind gust direction averaged over a period from 8:55am to 9:10am(Unit:degrees, with 0 means coming from the north, and increasing clockwise)\n",
    "    * max_wind_speed_9am: wind gust speed averaged over a period from 8:55am to 9:04am (Unit: miles per hour)\n",
    "    * rain_accumulation_9am: amount of rain accumulated in the 24 hours prior to 9am (Unit: millimeters)\n",
    "    * rain_duration_9am: amount of time rain was recorded in the 24 hours prior to 9am (Unit: seconds)\n",
    "    "
   ]
  },
  {
   "cell_type": "markdown",
   "id": "47723071",
   "metadata": {},
   "source": [
    "## Data Cleaning Steps"
   ]
  },
  {
   "cell_type": "code",
   "execution_count": 12,
   "id": "a0e6eb25",
   "metadata": {},
   "outputs": [
    {
     "name": "stdout",
     "output_type": "stream",
     "text": [
      "before rows:  1095\n",
      "after rows:  1064\n",
      "total rows dropped=  31\n"
     ]
    }
   ],
   "source": [
    "# not need the number column\n",
    "del data[\"number\"]\n",
    "# drop the null values\n",
    "before_rows=data.shape[0]\n",
    "print(\"before rows: \",before_rows)\n",
    "\n",
    "data=data.dropna()\n",
    "after_rows=data.shape[0]\n",
    "print(\"after rows: \", after_rows)\n",
    "\n",
    "print(\"total rows dropped= \", before_rows-after_rows)"
   ]
  },
  {
   "cell_type": "code",
   "execution_count": 19,
   "id": "3dbcf278",
   "metadata": {},
   "outputs": [
    {
     "name": "stdout",
     "output_type": "stream",
     "text": [
      "Y data:\n",
      "    high_humidity_label\n",
      "0                    1\n",
      "1                    0\n",
      "2                    0\n",
      "3                    0\n",
      "4                    1\n"
     ]
    }
   ],
   "source": [
    "# Convert to a classification task\n",
    "# binarize the relative_humidity_3pm to 0 or 1\n",
    "\n",
    "clean_data=data.copy()\n",
    "clean_data[\"high_humidity_label\"]=(clean_data[\"relative_humidity_3pm\"]>24.99)*1\n",
    "\n",
    "# print(\"Converted high humidity label:\\n\", clean_data[\"high_humidity_label\"])\n",
    "\n",
    "# target is stored in 'y'\n",
    "y=clean_data[['high_humidity_label']].copy()\n",
    "clean_data[\"relative_humidity_3pm\"].head()\n",
    "\n",
    "print(\"Y data:\\n\", y.head())"
   ]
  },
  {
   "cell_type": "markdown",
   "id": "f6534e35",
   "metadata": {},
   "source": [
    "### Use 9am sensor signals as features to predict humidity at 3pm\n",
    "\n"
   ]
  },
  {
   "cell_type": "code",
   "execution_count": 22,
   "id": "29196ae9",
   "metadata": {},
   "outputs": [
    {
     "name": "stdout",
     "output_type": "stream",
     "text": [
      "columns in X:  Index(['air_pressure_9am', 'air_temp_9am', 'avg_wind_direction_9am',\n",
      "       'avg_wind_speed_9am', 'max_wind_direction_9am', 'max_wind_speed_9am',\n",
      "       'rain_accumulation_9am', 'rain_duration_9am'],\n",
      "      dtype='object')\n",
      "Columns in Y:  Index(['high_humidity_label'], dtype='object')\n"
     ]
    }
   ],
   "source": [
    "morning_features=[\"air_pressure_9am\", \"air_temp_9am\", \"avg_wind_direction_9am\", \"avg_wind_speed_9am\", \"max_wind_direction_9am\", \"max_wind_speed_9am\", \"rain_accumulation_9am\", \"rain_duration_9am\"]\n",
    "\n",
    "X=clean_data[morning_features].copy()\n",
    "print(\"columns in X: \", X.columns)\n",
    "print(\"Columns in Y: \", y.columns)"
   ]
  },
  {
   "cell_type": "markdown",
   "id": "fa005670",
   "metadata": {},
   "source": [
    "### Perform train and test splits\n",
    "* In the training phase the learning algorithm uses the training data to adjust the model's parameters to minimize errors. At the end of the training phase, we get the trained model\n",
    "* In the testing phase, the trained model is applied to the test data. Test data is separate from the training data, and is previously unseen by the model. The model is then evaluated on how it performs in test data. The goal in building a classifier model is to have the model perform well on training as well as test data."
   ]
  },
  {
   "cell_type": "code",
   "execution_count": 26,
   "id": "05378c12",
   "metadata": {},
   "outputs": [
    {
     "name": "stdout",
     "output_type": "stream",
     "text": [
      "X_train is as under: \n",
      "     air_pressure_9am  air_temp_9am  avg_wind_direction_9am  \\\n",
      "841        918.370000     72.932000              184.500000   \n",
      "75         920.100000     53.492000              186.100000   \n",
      "95         927.610000     54.896000               55.000000   \n",
      "895        919.235153     65.951112              194.343333   \n",
      "699        919.888128     68.687822              228.517730   \n",
      "\n",
      "     avg_wind_speed_9am  max_wind_direction_9am  max_wind_speed_9am  \\\n",
      "841            2.013246              186.700000            2.773806   \n",
      "75            13.444009              193.800000           15.367778   \n",
      "95             4.988376               53.400000            7.202947   \n",
      "895            2.942019              216.569792            3.658810   \n",
      "699            3.960858              247.954028            5.185547   \n",
      "\n",
      "     rain_accumulation_9am  rain_duration_9am  \n",
      "841                    0.0                0.0  \n",
      "75                     0.0                0.0  \n",
      "95                     0.0                0.0  \n",
      "895                    0.0                0.0  \n",
      "699                    0.0                0.0  \n",
      "X_test is as under: \n",
      "     air_pressure_9am  air_temp_9am  avg_wind_direction_9am  \\\n",
      "456        918.800000     80.384000              189.600000   \n",
      "845        921.613373     68.658973               70.703555   \n",
      "693        917.900000     76.802000              154.100000   \n",
      "259        914.830000     74.570000              175.500000   \n",
      "723        917.010000     51.836000              130.200000   \n",
      "\n",
      "     avg_wind_speed_9am  max_wind_direction_9am  max_wind_speed_9am  \\\n",
      "456            1.767183               80.300000            2.773806   \n",
      "845            2.248932               96.844701            3.043049   \n",
      "693            2.550112              199.400000            3.400149   \n",
      "259            1.409272              153.800000            2.236940   \n",
      "723            1.610597              159.900000            2.348787   \n",
      "\n",
      "     rain_accumulation_9am  rain_duration_9am  \n",
      "456                    0.0                0.0  \n",
      "845                    0.0                0.0  \n",
      "693                    0.0                0.0  \n",
      "259                    0.0                0.0  \n",
      "723                    0.0                0.0  \n",
      "Y_train is as under: \n",
      "     high_humidity_label\n",
      "841                    0\n",
      "75                     1\n",
      "95                     0\n",
      "895                    0\n",
      "699                    0\n",
      "Y_test is as under: \n",
      "     high_humidity_label\n",
      "456                    0\n",
      "845                    0\n",
      "693                    1\n",
      "259                    1\n",
      "723                    1\n"
     ]
    }
   ],
   "source": [
    "X_train, X_test, Y_train, Y_test=train_test_split(X, y, test_size=0.33, random_state=324)\n",
    "print(\"X_train is as under: \")\n",
    "print(X_train.head())\n",
    "print(\"X_test is as under: \")\n",
    "print(X_test.head())\n",
    "print(\"Y_train is as under: \")\n",
    "print(Y_train.head())\n",
    "print(\"Y_test is as under: \")\n",
    "print(Y_test.head())"
   ]
  },
  {
   "cell_type": "code",
   "execution_count": 31,
   "id": "9d6d6392",
   "metadata": {},
   "outputs": [
    {
     "name": "stdout",
     "output_type": "stream",
     "text": [
      "let us describe y train: \n"
     ]
    },
    {
     "data": {
      "text/plain": [
       "sklearn.tree._classes.DecisionTreeClassifier"
      ]
     },
     "execution_count": 31,
     "metadata": {},
     "output_type": "execute_result"
    }
   ],
   "source": [
    "print(\"let us describe y train: \")\n",
    "Y_train.describe()\n",
    "\n",
    "# Fit on Training set\n",
    "humidity_classifier=DecisionTreeClassifier(max_leaf_nodes=10, random_state=0)\n",
    "\n",
    "humidity_classifier.fit(X_train, Y_train)\n",
    "type(humidity_classifier)"
   ]
  },
  {
   "cell_type": "markdown",
   "id": "0a2d6902",
   "metadata": {},
   "source": [
    "### Predict on the test set"
   ]
  },
  {
   "cell_type": "code",
   "execution_count": 32,
   "id": "d0fc9d13",
   "metadata": {},
   "outputs": [
    {
     "name": "stdout",
     "output_type": "stream",
     "text": [
      "Sample predictions: \n",
      " [0 0 1 1 1 1 0 0 0 1]\n",
      "Sample Y Test(Actual Data):\n",
      "       high_humidity_label\n",
      "456                     0\n",
      "845                     0\n",
      "693                     1\n",
      "259                     1\n",
      "723                     1\n",
      "224                     1\n",
      "300                     1\n",
      "442                     0\n",
      "585                     1\n",
      "1057                    1\n"
     ]
    }
   ],
   "source": [
    "predictions=humidity_classifier.predict(X_test)\n",
    "print(\"Sample predictions: \\n\", predictions[:10])\n",
    "print(\"Sample Y Test(Actual Data):\\n\", Y_test[:10])"
   ]
  },
  {
   "cell_type": "code",
   "execution_count": 37,
   "id": "cb2fd60c",
   "metadata": {},
   "outputs": [
    {
     "name": "stdout",
     "output_type": "stream",
     "text": [
      "Accuracy: \n",
      " 0.8153409090909091\n"
     ]
    }
   ],
   "source": [
    "# Measure accuracy of the classifier\n",
    "print(\"Accuracy: \\n\", accuracy_score(y_true=Y_test, y_pred=predictions))"
   ]
  },
  {
   "cell_type": "code",
   "execution_count": null,
   "id": "c1252c30",
   "metadata": {},
   "outputs": [],
   "source": []
  }
 ],
 "metadata": {
  "kernelspec": {
   "display_name": "Python 3",
   "language": "python",
   "name": "python3"
  },
  "language_info": {
   "codemirror_mode": {
    "name": "ipython",
    "version": 3
   },
   "file_extension": ".py",
   "mimetype": "text/x-python",
   "name": "python",
   "nbconvert_exporter": "python",
   "pygments_lexer": "ipython3",
   "version": "3.8.8"
  }
 },
 "nbformat": 4,
 "nbformat_minor": 5
}
