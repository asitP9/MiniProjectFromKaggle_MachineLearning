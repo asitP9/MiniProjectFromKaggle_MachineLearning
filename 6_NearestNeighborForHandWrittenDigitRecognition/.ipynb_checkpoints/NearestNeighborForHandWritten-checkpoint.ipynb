{
 "cells": [
  {
   "cell_type": "markdown",
   "id": "37ced9d9",
   "metadata": {},
   "source": [
    "We will build a classifier that takes an image of the handwritten digit and outputs a label 0-9. We will look at a particularly simple strategy for this problem known as teh nearest neighbor classifier.\n",
    "1. The MNIST dataset\n",
    "\"MNIST\" is a classic dataset in machine learning, consisting of 28x28 gray-scale images handwritten digits. The original training set contains 600,000 examples and the test set contains 10,000 examples. In this notebook we will be working with a subset of this data: a training set of 7500 examples and a test set of 1,000 examples.\n",
    "\n",
    "**1. The MNIST dataset**\n",
    "\n",
    "four files are available in this package\n",
    "* training set images\n",
    "* training set labels\n",
    "* test set images\n",
    "* test set labels\n",
    "\n",
    "these files are not in any standard image format. you have to write your own program to read them.  "
   ]
  },
  {
   "cell_type": "code",
   "execution_count": 13,
   "id": "ae6c4ec1",
   "metadata": {},
   "outputs": [],
   "source": [
    "import numpy as np\n",
    "import time\n",
    "import matplotlib.pyplot as plt "
   ]
  },
  {
   "cell_type": "code",
   "execution_count": 3,
   "id": "007a9e29",
   "metadata": {},
   "outputs": [],
   "source": [
    "# Load the training set\n",
    "train_data=np.load(\"../data/train_data.npy\")\n",
    "train_labels=np.load(\"../data/train_labels.npy\")\n",
    "\n",
    "test_data=np.load(\"../data/test_data.npy\")\n",
    "test_labels=np.load(\"../data/test_labels.npy\")"
   ]
  },
  {
   "cell_type": "code",
   "execution_count": 4,
   "id": "e9c8451f",
   "metadata": {},
   "outputs": [
    {
     "name": "stdout",
     "output_type": "stream",
     "text": [
      "Training dataset dimensions:  (7500, 784)\n",
      "no of training labels:  7500\n",
      "Testing dataset dimensions:  (1000, 784)\n",
      "no of testing labels:  1000\n"
     ]
    }
   ],
   "source": [
    "# print out data dimensions\n",
    "print(\"Training dataset dimensions: \", np.shape(train_data))\n",
    "print(\"no of training labels: \", len(train_labels))\n",
    "print(\"Testing dataset dimensions: \", np.shape(test_data))\n",
    "print(\"no of testing labels: \", len(test_labels))"
   ]
  },
  {
   "cell_type": "code",
   "execution_count": 5,
   "id": "6f0000f3",
   "metadata": {},
   "outputs": [
    {
     "name": "stdout",
     "output_type": "stream",
     "text": [
      "Training set distribution:\n",
      "{0: 750, 1: 750, 2: 750, 3: 750, 4: 750, 5: 750, 6: 750, 7: 750, 8: 750, 9: 750}\n",
      "Test set distribution:\n",
      "{0: 100, 1: 100, 2: 100, 3: 100, 4: 100, 5: 100, 6: 100, 7: 100, 8: 100, 9: 100}\n"
     ]
    }
   ],
   "source": [
    "# compute the number of examples of each digit:\n",
    "train_digits, train_counts=np.unique(train_labels, return_counts=True)\n",
    "print(\"Training set distribution:\")\n",
    "print(dict(zip(train_digits, train_counts)))\n",
    "\n",
    "test_digit, test_counts=np.unique(test_labels, return_counts=True)\n",
    "\n",
    "print(\"Test set distribution:\")\n",
    "print(dict(zip(test_digit, test_counts)))"
   ]
  },
  {
   "cell_type": "markdown",
   "id": "80b9066d",
   "metadata": {},
   "source": [
    "**2. Visualizing the data**"
   ]
  },
  {
   "cell_type": "markdown",
   "id": "93ee6324",
   "metadata": {},
   "source": [
    "Each data point is stored as 784-dimensional vector. To visualize a data point,\n",
    "we first reshape it to a 28x28 image.\n",
    "\n",
    "Define a function that displays a  digit given its vector representation:"
   ]
  },
  {
   "cell_type": "code",
   "execution_count": 6,
   "id": "96952bb5",
   "metadata": {},
   "outputs": [
    {
     "data": {
      "image/png": "[encoded data removed]",
      "text/plain": [
       "<Figure size 432x288 with 1 Axes>"
      ]
     },
     "metadata": {
      "needs_background": "light"
     },
     "output_type": "display_data"
    },
    {
     "name": "stdout",
     "output_type": "stream",
     "text": [
      "label: 9\n"
     ]
    },
    {
     "data": {
      "image/png": "[encoded data removed]",
      "text/plain": [
       "<Figure size 432x288 with 1 Axes>"
      ]
     },
     "metadata": {
      "needs_background": "light"
     },
     "output_type": "display_data"
    },
    {
     "name": "stdout",
     "output_type": "stream",
     "text": [
      "label: 0\n"
     ]
    }
   ],
   "source": [
    "def show_digit(x):\n",
    "    plt.axis('off')\n",
    "    plt.imshow(x.reshape((28, 28)), cmap=plt.cm.gray)\n",
    "    plt.show()\n",
    "    return\n",
    "    \n",
    "    \n",
    "# Define a function that takes an index into a \n",
    "# particular dataset (\"train\" or \"test\") and displays that image\n",
    "def vis_image(index, dataset=\"train\"):\n",
    "    if dataset==\"train\":\n",
    "        show_digit(train_data[index,])\n",
    "        label=train_labels[index]\n",
    "        \n",
    "    else:\n",
    "        show_digit(test_data[index,])\n",
    "        label=test_labels[index]\n",
    "    \n",
    "    print(\"label: \"+str(label))\n",
    "    return\n",
    "\n",
    "# View the first data point in tha training set\n",
    "vis_image(0, \"train\")\n",
    "\n",
    "# View the first data point in the test set\n",
    "vis_image(0, \"test\")"
   ]
  },
  {
   "cell_type": "markdown",
   "id": "efe70804",
   "metadata": {},
   "source": [
    "3. Squared euclidean distance\n",
    "    * To compute nearest neighbors in our dataset, we need to compute distance between the data points. A natural distance function is euclidean distance."
   ]
  },
  {
   "cell_type": "code",
   "execution_count": 7,
   "id": "56182920",
   "metadata": {},
   "outputs": [
    {
     "data": {
      "image/png": "[encoded data removed]",
      "text/plain": [
       "<Figure size 432x288 with 1 Axes>"
      ]
     },
     "metadata": {
      "needs_background": "light"
     },
     "output_type": "display_data"
    },
    {
     "name": "stdout",
     "output_type": "stream",
     "text": [
      "label: 7\n"
     ]
    },
    {
     "data": {
      "image/png": "[encoded data removed]",
      "text/plain": [
       "<Figure size 432x288 with 1 Axes>"
      ]
     },
     "metadata": {
      "needs_background": "light"
     },
     "output_type": "display_data"
    },
    {
     "name": "stdout",
     "output_type": "stream",
     "text": [
      "label: 1\n",
      "Distance from 7 to 1:  5357193.0\n"
     ]
    }
   ],
   "source": [
    "# Function that computes squared euclidean distance between 2 vectors\n",
    "def squared_dist(x, y):\n",
    "    return np.sum(np.square(x-y))\n",
    "\n",
    "# Compute distance between a seven and a one in our training set.\n",
    "vis_image(4, \"train\")\n",
    "vis_image(5, \"train\")\n",
    "\n",
    "print(\"Distance from 7 to 1: \", squared_dist(train_data[4, ], train_data[5, ]))"
   ]
  },
  {
   "cell_type": "code",
   "execution_count": 8,
   "id": "b9e90e15",
   "metadata": {},
   "outputs": [
    {
     "data": {
      "image/png": "[encoded data removed]",
      "text/plain": [
       "<Figure size 432x288 with 1 Axes>"
      ]
     },
     "metadata": {
      "needs_background": "light"
     },
     "output_type": "display_data"
    },
    {
     "name": "stdout",
     "output_type": "stream",
     "text": [
      "label: 7\n"
     ]
    },
    {
     "data": {
      "image/png": "[encoded data removed]",
      "text/plain": [
       "<Figure size 432x288 with 1 Axes>"
      ]
     },
     "metadata": {
      "needs_background": "light"
     },
     "output_type": "display_data"
    },
    {
     "name": "stdout",
     "output_type": "stream",
     "text": [
      "label: 2\n",
      "Distance from 7 to 2:  12451684.0\n"
     ]
    }
   ],
   "source": [
    "# Compute distance between seven and a two in our training set\n",
    "vis_image(4, \"train\")\n",
    "vis_image(1, \"train\")\n",
    "\n",
    "print(\"Distance from 7 to 2: \", squared_dist(train_data[4, ], train_data[1, ]))"
   ]
  },
  {
   "cell_type": "code",
   "execution_count": 9,
   "id": "c761a00a",
   "metadata": {},
   "outputs": [
    {
     "data": {
      "image/png": "[encoded data removed]",
      "text/plain": [
       "<Figure size 432x288 with 1 Axes>"
      ]
     },
     "metadata": {
      "needs_background": "light"
     },
     "output_type": "display_data"
    },
    {
     "name": "stdout",
     "output_type": "stream",
     "text": [
      "label: 7\n"
     ]
    },
    {
     "data": {
      "image/png": "[encoded data removed]",
      "text/plain": [
       "<Figure size 432x288 with 1 Axes>"
      ]
     },
     "metadata": {
      "needs_background": "light"
     },
     "output_type": "display_data"
    },
    {
     "name": "stdout",
     "output_type": "stream",
     "text": [
      "label: 7\n",
      "Distance from 7 to 7:  5223403.0\n"
     ]
    }
   ],
   "source": [
    "# Compute distance between two sevens in our training set\n",
    "vis_image(4, \"train\")\n",
    "vis_image(7, \"train\")\n",
    "\n",
    "print(\"Distance from 7 to 7: \", squared_dist(train_data[4, ], train_data[7, ]))"
   ]
  },
  {
   "cell_type": "markdown",
   "id": "0e6d07b2",
   "metadata": {},
   "source": [
    "### 4. Computing nearest neighbor\n",
    "### Now that we have distance function defined, we can now turn to nearest neighbor classifier\n"
   ]
  },
  {
   "cell_type": "code",
   "execution_count": 11,
   "id": "11bd3b70",
   "metadata": {},
   "outputs": [
    {
     "name": "stdout",
     "output_type": "stream",
     "text": [
      "A success case:\n",
      "NN classification:  0\n",
      "true label:  0\n",
      "the test image: \n"
     ]
    },
    {
     "data": {
      "image/png": "[encoded data removed]",
      "text/plain": [
       "<Figure size 432x288 with 1 Axes>"
      ]
     },
     "metadata": {
      "needs_background": "light"
     },
     "output_type": "display_data"
    },
    {
     "name": "stdout",
     "output_type": "stream",
     "text": [
      "label: 0\n",
      "the corressponding nearest neighbor image:\n"
     ]
    },
    {
     "data": {
      "image/png": "[encoded data removed]",
      "text/plain": [
       "<Figure size 432x288 with 1 Axes>"
      ]
     },
     "metadata": {
      "needs_background": "light"
     },
     "output_type": "display_data"
    },
    {
     "name": "stdout",
     "output_type": "stream",
     "text": [
      "label: 0\n",
      "A failure case: \n",
      "NN Classification:  2\n",
      "true label:  3\n",
      "the test image: \n"
     ]
    },
    {
     "data": {
      "image/png": "[encoded data removed]",
      "text/plain": [
       "<Figure size 432x288 with 1 Axes>"
      ]
     },
     "metadata": {
      "needs_background": "light"
     },
     "output_type": "display_data"
    },
    {
     "name": "stdout",
     "output_type": "stream",
     "text": [
      "label: 3\n",
      "the corressponding nearest neighbor image:\n"
     ]
    },
    {
     "data": {
      "image/png": "[encoded data removed]",
      "text/plain": [
       "<Figure size 432x288 with 1 Axes>"
      ]
     },
     "metadata": {
      "needs_background": "light"
     },
     "output_type": "display_data"
    },
    {
     "name": "stdout",
     "output_type": "stream",
     "text": [
      "label: 2\n"
     ]
    }
   ],
   "source": [
    "\n",
    "# function takes a vector x and returns the index of the nearest neighbor in train_data\n",
    "def find_NN(x):\n",
    "#     find distance from x to every row in train_data\n",
    "    distances=[squared_dist(x, train_data[i,]) for i in range(len(train_labels))]\n",
    "#     get the index of the smallest distance\n",
    "    return np.argmin(distances)\n",
    "\n",
    "\n",
    "# function that takes a vector x and return the class of its nearest neighbor in train_data\n",
    "def NN_classifier(x):\n",
    "#     get the index of the nearest neighbor\n",
    "    index=find_NN(x)\n",
    "    return train_labels[index]\n",
    "\n",
    "# A success case\n",
    "print(\"A success case:\")\n",
    "print(\"NN classification: \", NN_classifier(test_data[0,]))\n",
    "print(\"true label: \", test_labels[0])\n",
    "print(\"the test image: \")\n",
    "vis_image(0, \"test\")\n",
    "print(\"the corressponding nearest neighbor image:\")\n",
    "vis_image(find_NN(test_data[0,]), \"train\")\n",
    "\n",
    "\n",
    "# A failure case\n",
    "print(\"A failure case: \")\n",
    "print(\"NN Classification: \", NN_classifier(test_data[39, ]))\n",
    "print(\"true label: \", test_labels[39])\n",
    "print(\"the test image: \")\n",
    "vis_image(39, \"test\")\n",
    "print(\"the corressponding nearest neighbor image:\")\n",
    "vis_image(find_NN(test_data[39,]), \"train\")\n",
    "\n",
    "    "
   ]
  },
  {
   "cell_type": "markdown",
   "id": "0fa3a0be",
   "metadata": {},
   "source": [
    "### 5. processing the full test set\n",
    "* let us apply our nearest neighbor classifier over the full dataset\n",
    "* To classify each test point, our code takes a full pass over each of the 7500 training examples. Thus we should not expect testing to be very fast.\n"
   ]
  },
  {
   "cell_type": "code",
   "execution_count": 16,
   "id": "e9e901a2",
   "metadata": {},
   "outputs": [
    {
     "name": "stdout",
     "output_type": "stream",
     "text": [
      "error of nearest neighbor classifier:  0.046\n",
      "classification time(in seconds):  128.10508608818054\n"
     ]
    }
   ],
   "source": [
    "# processing the full test set\n",
    "t_before=time.time()\n",
    "test_predictions=[NN_classifier(test_data[i, ]) for i in range(len(test_labels))]\n",
    "t_after=time.time()\n",
    "\n",
    "# compute the error\n",
    "err_positions=np.not_equal(test_predictions, test_labels)\n",
    "error=float(np.sum(err_positions))/len(test_labels)\n",
    "\n",
    "print(\"error of nearest neighbor classifier: \", error)\n",
    "print(\"classification time(in seconds): \", t_after-t_before)"
   ]
  },
  {
   "cell_type": "markdown",
   "id": "b806fc53",
   "metadata": {},
   "source": [
    "## 6. Faster nearest neighbor methods\n",
    "* performing nearest neighbor classification in the way we have presented requires a full pass through the training set in order to classify the single point.\n",
    "* fortunately there are faster methods to perform nearest neighbor. \"scikit-learn\" has fast implementations of 2 useful nearest neighbor data structures: the ball tree and the K-d tree.\n"
   ]
  },
  {
   "cell_type": "code",
   "execution_count": 19,
   "id": "5de17ca8",
   "metadata": {},
   "outputs": [
    {
     "name": "stdout",
     "output_type": "stream",
     "text": [
      "time to bring data structure (seconds): 1.286330223083496\n",
      "time to classify test set(seconds):  16.734264135360718\n",
      "Ball tree produces same prediction as above: \n"
     ]
    },
    {
     "data": {
      "text/plain": [
       "True"
      ]
     },
     "execution_count": 19,
     "metadata": {},
     "output_type": "execute_result"
    }
   ],
   "source": [
    "# Faster nearest neighbor implementation\n",
    "from sklearn.neighbors import BallTree\n",
    "\n",
    "# build nearest neighbor structure on training data\n",
    "t_before=time.time()\n",
    "ball_tree=BallTree(train_data)\n",
    "t_after=time.time()\n",
    "\n",
    "# compute training time\n",
    "t_training=t_after-t_before\n",
    "\n",
    "print(\"time to bring data structure (seconds):\", t_training)\n",
    "\n",
    "# get nearest neighbor prediction on testing data\n",
    "t_before=time.time()\n",
    "test_neighbors=np.squeeze(ball_tree.query(test_data, k=1, return_distance=False))\n",
    "ball_tree_predictions=train_labels[test_neighbors]\n",
    "t_after=time.time()\n",
    "\n",
    "# compute testing time\n",
    "t_testing=t_after-t_before\n",
    "print(\"time to classify test set(seconds): \", t_testing)\n",
    "\n",
    "# verify that the predictions are the same\n",
    "print(\"Ball tree produces same prediction as above: \")\n",
    "np.array_equal(test_predictions, ball_tree_predictions)"
   ]
  },
  {
   "cell_type": "code",
   "execution_count": 21,
   "id": "0f894b60",
   "metadata": {},
   "outputs": [
    {
     "name": "stdout",
     "output_type": "stream",
     "text": [
      "time to bring data structure (seconds): 1.88824462890625\n",
      "time to classify test set(seconds):  20.68999934196472\n",
      "Ball tree produces same prediction as above: \n"
     ]
    },
    {
     "data": {
      "text/plain": [
       "True"
      ]
     },
     "execution_count": 21,
     "metadata": {},
     "output_type": "execute_result"
    }
   ],
   "source": [
    "# Faster nearest neighbor implementation\n",
    "from sklearn.neighbors import KDTree\n",
    "\n",
    "# build nearest neighbor structure on training data\n",
    "t_before=time.time()\n",
    "kd_tree=KDTree(train_data)\n",
    "t_after=time.time()\n",
    "\n",
    "# compute training time\n",
    "t_training=t_after-t_before\n",
    "\n",
    "print(\"time to bring data structure (seconds):\", t_training)\n",
    "\n",
    "# get nearest neighbor prediction on testing data\n",
    "t_before=time.time()\n",
    "test_neighbors=np.squeeze(kd_tree.query(test_data, k=1, return_distance=False))\n",
    "kd_tree_predictions=train_labels[test_neighbors]\n",
    "t_after=time.time()\n",
    "\n",
    "# compute testing time\n",
    "t_testing=t_after-t_before\n",
    "print(\"time to classify test set(seconds): \", t_testing)\n",
    "\n",
    "# verify that the predictions are the same\n",
    "print(\"KD tree produces same prediction as above: \")\n",
    "np.array_equal(test_predictions, kd_tree_predictions)"
   ]
  },
  {
   "cell_type": "code",
   "execution_count": null,
   "id": "7cbb6793",
   "metadata": {},
   "outputs": [],
   "source": []
  }
 ],
 "metadata": {
  "kernelspec": {
   "display_name": "Python 3",
   "language": "python",
   "name": "python3"
  },
  "language_info": {
   "codemirror_mode": {
    "name": "ipython",
    "version": 3
   },
   "file_extension": ".py",
   "mimetype": "text/x-python",
   "name": "python",
   "nbconvert_exporter": "python",
   "pygments_lexer": "ipython3",
   "version": "3.8.8"
  }
 },
 "nbformat": 4,
 "nbformat_minor": 5
}
