{
 "cells": [
  {
   "cell_type": "markdown",
   "id": "132f1861",
   "metadata": {},
   "source": [
    "# VISUALIZATION OF WORLD GDP AND CARBON - DIOXIDE EMISSION"
   ]
  },
  {
   "cell_type": "markdown",
   "id": "6c05e3f7",
   "metadata": {},
   "source": [
    "### The World Development Indicators dataset obtained from the World Bank containing over a thousand annual indicators of economic development from hundreds of countries around the world."
   ]
  },
  {
   "cell_type": "code",
   "execution_count": 33,
   "id": "6ace38d3",
   "metadata": {},
   "outputs": [],
   "source": [
    "import warnings\n",
    "import matplotlib\n",
    "import matplotlib.pyplot as plt\n",
    "import pandas as pd\n",
    "import numpy as np"
   ]
  },
  {
   "cell_type": "code",
   "execution_count": 3,
   "id": "45ffcd2a",
   "metadata": {},
   "outputs": [],
   "source": [
    "warnings.filterwarnings(\"ignore\", category=matplotlib.cbook.mplDeprecation)"
   ]
  },
  {
   "cell_type": "code",
   "execution_count": 4,
   "id": "a607aa52",
   "metadata": {},
   "outputs": [],
   "source": [
    "# let us read the dataset\n",
    "data=pd.read_csv(\"../data/Indicators.bz2\")"
   ]
  },
  {
   "cell_type": "code",
   "execution_count": 5,
   "id": "978cad25",
   "metadata": {},
   "outputs": [
    {
     "data": {
      "text/plain": [
       "(5656458, 6)"
      ]
     },
     "execution_count": 5,
     "metadata": {},
     "output_type": "execute_result"
    }
   ],
   "source": [
    "data.shape"
   ]
  },
  {
   "cell_type": "code",
   "execution_count": 6,
   "id": "a349d90c",
   "metadata": {},
   "outputs": [
    {
     "name": "stdout",
     "output_type": "stream",
     "text": [
      "sample data\n",
      "   CountryName CountryCode                                      IndicatorName  \\\n",
      "0  Arab World         ARB  Adolescent fertility rate (births per 1,000 wo...   \n",
      "1  Arab World         ARB  Age dependency ratio (% of working-age populat...   \n",
      "2  Arab World         ARB  Age dependency ratio, old (% of working-age po...   \n",
      "3  Arab World         ARB  Age dependency ratio, young (% of working-age ...   \n",
      "4  Arab World         ARB        Arms exports (SIPRI trend indicator values)   \n",
      "\n",
      "    IndicatorCode  Year         Value  \n",
      "0     SP.ADO.TFRT  1960  1.335609e+02  \n",
      "1     SP.POP.DPND  1960  8.779760e+01  \n",
      "2  SP.POP.DPND.OL  1960  6.634579e+00  \n",
      "3  SP.POP.DPND.YG  1960  8.102333e+01  \n",
      "4  MS.MIL.XPRT.KD  1960  3.000000e+06  \n",
      "Columns\n",
      " Index(['CountryName', 'CountryCode', 'IndicatorName', 'IndicatorCode', 'Year',\n",
      "       'Value'],\n",
      "      dtype='object')\n"
     ]
    }
   ],
   "source": [
    "print(\"sample data\\n\", data.head())\n",
    "print(\"Columns\\n\", data.columns)"
   ]
  },
  {
   "cell_type": "code",
   "execution_count": 7,
   "id": "65166952",
   "metadata": {},
   "outputs": [
    {
     "name": "stdout",
     "output_type": "stream",
     "text": [
      "no of countries=  247\n",
      "no of country codes=  247\n"
     ]
    }
   ],
   "source": [
    "# From the above dataset, it looks like it has different indicators for different countries with the year and value \n",
    "# of the indicator.\n",
    "\n",
    "# How many unique country names are there\n",
    "countries=data['CountryName'].unique().tolist()\n",
    "print(\"no of countries= \", len(countries))\n",
    "\n",
    "# Are there same no of country codes\n",
    "countryCodes=data['CountryCode'].unique().tolist()\n",
    "print(\"no of country codes= \", len(countryCodes))\n"
   ]
  },
  {
   "cell_type": "code",
   "execution_count": 8,
   "id": "c59da733",
   "metadata": {},
   "outputs": [
    {
     "name": "stdout",
     "output_type": "stream",
     "text": [
      "\n",
      " Indicator Names \n",
      " ['Adolescent fertility rate (births per 1,000 women ages 15-19)', 'Age dependency ratio (% of working-age population)', 'Age dependency ratio, old (% of working-age population)', 'Age dependency ratio, young (% of working-age population)', 'Arms exports (SIPRI trend indicator values)', 'Arms imports (SIPRI trend indicator values)', 'Birth rate, crude (per 1,000 people)', 'CO2 emissions (kt)', 'CO2 emissions (metric tons per capita)', 'CO2 emissions from gaseous fuel consumption (% of total)', 'CO2 emissions from liquid fuel consumption (% of total)', 'CO2 emissions from liquid fuel consumption (kt)', 'CO2 emissions from solid fuel consumption (% of total)', 'Death rate, crude (per 1,000 people)', 'Fertility rate, total (births per woman)', 'Fixed telephone subscriptions', 'Fixed telephone subscriptions (per 100 people)', 'Hospital beds (per 1,000 people)', 'International migrant stock (% of population)', 'International migrant stock, total', 'Life expectancy at birth, female (years)', 'Life expectancy at birth, male (years)', 'Life expectancy at birth, total (years)', 'Merchandise exports (current US$)', 'Merchandise exports by the reporting economy (current US$)', 'Merchandise exports by the reporting economy, residual (% of total merchandise exports)', 'Merchandise exports to developing economies in East Asia & Pacific (% of total merchandise exports)', 'Merchandise exports to developing economies in Latin America & the Caribbean (% of total merchandise exports)', 'Merchandise exports to developing economies in Middle East & North Africa (% of total merchandise exports)', 'Merchandise exports to developing economies in South Asia (% of total merchandise exports)', 'Merchandise exports to developing economies in Sub-Saharan Africa (% of total merchandise exports)', 'Merchandise exports to developing economies outside region (% of total merchandise exports)', 'Merchandise exports to developing economies within region (% of total merchandise exports)', 'Merchandise exports to economies in the Arab World (% of total merchandise exports)', 'Merchandise exports to high-income economies (% of total merchandise exports)', 'Merchandise imports (current US$)', 'Merchandise imports by the reporting economy (current US$)', 'Merchandise imports by the reporting economy, residual (% of total merchandise imports)', 'Merchandise imports from developing economies in East Asia & Pacific (% of total merchandise imports)', 'Merchandise imports from developing economies in Latin America & the Caribbean (% of total merchandise imports)', 'Merchandise imports from developing economies in Middle East & North Africa (% of total merchandise imports)', 'Merchandise imports from developing economies in South Asia (% of total merchandise imports)', 'Merchandise imports from developing economies in Sub-Saharan Africa (% of total merchandise imports)', 'Merchandise imports from developing economies outside region (% of total merchandise imports)', 'Merchandise imports from developing economies within region (% of total merchandise imports)', 'Merchandise imports from economies in the Arab World (% of total merchandise imports)', 'Merchandise imports from high-income economies (% of total merchandise imports)', 'Merchandise trade (% of GDP)', 'Mobile cellular subscriptions', 'Mobile cellular subscriptions (per 100 people)', 'Mortality rate, adult, female (per 1,000 female adults)', 'Mortality rate, adult, male (per 1,000 male adults)', 'Mortality rate, infant (per 1,000 live births)', 'Mortality rate, under-5 (per 1,000)', 'Net bilateral aid flows from DAC donors, European Union institutions (current US$)', 'Net bilateral aid flows from DAC donors, France (current US$)', 'Net bilateral aid flows from DAC donors, Germany (current US$)', 'Net bilateral aid flows from DAC donors, Italy (current US$)', 'Net bilateral aid flows from DAC donors, Japan (current US$)', 'Net bilateral aid flows from DAC donors, Total (current US$)', 'Net bilateral aid flows from DAC donors, United Kingdom (current US$)', 'Net bilateral aid flows from DAC donors, United States (current US$)', 'Net ODA received per capita (current US$)', 'Net official development assistance and official aid received (constant 2012 US$)', 'Net official development assistance and official aid received (current US$)', 'Net official development assistance received (constant 2012 US$)', 'Net official development assistance received (current US$)', 'Population ages 65 and above (% of total)', 'Population in the largest city (% of urban population)', 'Population in urban agglomerations of more than 1 million (% of total population)', 'Population, ages 0-14 (% of total)', 'Population, ages 15-64 (% of total)', 'Population, female (% of total)', 'Population, total', 'Rural population', 'Rural population (% of total population)', 'Survival to age 65, female (% of cohort)', 'Survival to age 65, male (% of cohort)', 'Urban population', 'Urban population (% of total)', 'Exports of goods and services (current US$)', 'GDP at market prices (current US$)', 'GDP per capita (current US$)', 'GNI (current US$)', 'Gross capital formation (current US$)', 'Net bilateral aid flows from DAC donors, Canada (current US$)', 'Net bilateral aid flows from DAC donors, Netherlands (current US$)', 'Net ODA received (% of GNI)', 'Net ODA received (% of gross capital formation)', 'Alternative and nuclear energy (% of total energy use)', 'CO2 emissions from electricity and heat production, total (% of total fuel combustion)', 'CO2 emissions from manufacturing industries and construction (% of total fuel combustion)', 'CO2 emissions from other sectors, excluding residential buildings and commercial and public services (% of total fuel combustion)', 'CO2 emissions from residential buildings and commercial and public services (% of total fuel combustion)', 'CO2 emissions from solid fuel consumption (kt)', 'CO2 emissions from transport (% of total fuel combustion)', 'CO2 intensity (kg per kg of oil equivalent energy use)', 'Combustible renewables and waste (% of total energy)', 'Electric power transmission and distribution losses (% of output)', 'Electricity production from renewable sources, excluding hydroelectric (kWh)', 'Energy imports, net (% of energy use)', 'Fossil fuel energy consumption (% of total)', 'Agriculture, value added (constant 2005 US$)', 'CO2 emissions (kg per 2005 US$ of GDP)', 'Exports of goods and services (% of GDP)', 'External balance on goods and services (% of GDP)', 'GDP at market prices (constant 2005 US$)', 'GDP per capita (constant 2005 US$)', 'General government final consumption expenditure (% of GDP)', 'General government final consumption expenditure (constant 2005 US$)', 'General government final consumption expenditure (current US$)', 'GNI (constant 2005 US$)', 'GNI per capita (constant 2005 US$)', 'Gross domestic income (constant 2005 US$)', 'Gross fixed capital formation (% of GDP)', 'Gross fixed capital formation (current US$)', 'Gross national expenditure (constant 2005 US$)', 'Gross national expenditure (current US$)', 'Imports of goods and services (% of GDP)', 'Imports of goods and services (current US$)', 'Net bilateral aid flows from DAC donors, Austria (current US$)', 'Net bilateral aid flows from DAC donors, Belgium (current US$)', 'Net bilateral aid flows from DAC donors, Denmark (current US$)', 'Net bilateral aid flows from DAC donors, Korea, Rep. (current US$)', 'Net bilateral aid flows from DAC donors, Norway (current US$)', 'Net bilateral aid flows from DAC donors, Portugal (current US$)', 'Net bilateral aid flows from DAC donors, Sweden (current US$)', 'Net bilateral aid flows from DAC donors, Switzerland (current US$)', 'Portfolio equity, net inflows (BoP, current US$)', 'Trade (% of GDP)', 'Agriculture, value added (% of GDP)', 'Agriculture, value added (current US$)', 'Final consumption expenditure, etc. (current US$)', 'Gross capital formation (% of GDP)', 'Gross domestic savings (% of GDP)', 'Gross domestic savings (current US$)', 'Household final consumption expenditure (current US$)', 'Household final consumption expenditure, etc. (% of GDP)', 'Household final consumption expenditure, etc. (current US$)', 'Industry, value added (% of GDP)', 'Industry, value added (constant 2005 US$)', 'Industry, value added (current US$)', 'Manufacturing, value added (% of GDP)', 'Manufacturing, value added (current US$)', 'Services, etc., value added (% of GDP)', 'Services, etc., value added (constant 2005 US$)', 'Services, etc., value added (current US$)', 'Electric power consumption (kWh per capita)', 'Electricity production from coal sources (% of total)', 'Electricity production from hydroelectric sources (% of total)', 'Electricity production from natural gas sources (% of total)', 'Electricity production from nuclear sources (% of total)', 'Electricity production from oil sources (% of total)', 'Electricity production from oil, gas and coal sources (% of total)', 'Electricity production from renewable sources, excluding hydroelectric (% of total)', 'Energy use (kg of oil equivalent per capita)', 'Exports of goods and services (constant 2005 US$)', 'Imports of goods and services (constant 2005 US$)', 'Trademark applications, direct nonresident', 'Trademark applications, direct resident', 'Trademark applications, total', 'Number of infant deaths', 'Number of under-five deaths', 'CO2 emissions from gaseous fuel consumption (kt)', 'Gross fixed capital formation (constant 2005 US$)', 'Final consumption expenditure (constant 2005 US$)', 'Final consumption expenditure, etc. (constant 2005 US$)', 'Gross capital formation (constant 2005 US$)', 'Gross value added at factor cost (current US$)', 'Household final consumption expenditure (constant 2005 US$)', 'Household final consumption expenditure per capita (constant 2005 US$)', 'Household final consumption expenditure, etc. (constant 2005 US$)', 'Manufacturing, value added (constant 2005 US$)', 'Gross fixed capital formation, private sector (% of GDP)', 'Patent applications, nonresidents', 'Patent applications, residents', 'Gross value added at factor cost (constant 2005 US$)', 'DEC alternative conversion factor (LCU per US$)', 'Exports of goods and services (current LCU)', 'External balance on goods and services (current LCU)', 'External balance on goods and services (current US$)', 'Final consumption expenditure (current LCU)', 'Final consumption expenditure (current US$)', 'Final consumption expenditure, etc. (% of GDP)', 'Final consumption expenditure, etc. (current LCU)', 'GDP (current LCU)', 'GDP per capita (current LCU)', 'GNI (current LCU)', 'GNI per capita (current LCU)', 'Gross capital formation (current LCU)', 'Gross domestic savings (current LCU)', 'Gross national expenditure (% of GDP)', 'Gross national expenditure (current LCU)', 'Gross value added at factor cost (current LCU)', 'Household final consumption expenditure (current LCU)', 'Imports of goods and services (current LCU)', 'Net income from abroad (current LCU)', 'Net income from abroad (current US$)', 'Net taxes on products (current LCU)', 'Net taxes on products (current US$)', 'Official exchange rate (LCU per US$, period average)', 'Physicians (per 1,000 people)', 'Population growth (annual %)', 'Population in largest city', 'Population in urban agglomerations of more than 1 million', 'Rural population growth (annual %)', 'Total reserves (includes gold, current US$)', 'Total reserves minus gold (current US$)', 'Urban population growth (annual %)', 'Agriculture, value added (constant LCU)', 'Agriculture, value added (current LCU)', 'Discrepancy in expenditure estimate of GDP (constant LCU)', 'Discrepancy in expenditure estimate of GDP (current LCU)', 'Exports as a capacity to import (constant LCU)', 'Exports of goods and services (constant LCU)', 'External balance on goods and services (constant LCU)', 'Final consumption expenditure (constant LCU)', 'Final consumption expenditure, etc. (constant LCU)', 'GDP (constant LCU)', 'GDP deflator (base year varies by country)', 'GDP per capita (constant LCU)', 'General government final consumption expenditure (constant LCU)', 'General government final consumption expenditure (current LCU)', 'GNI (constant LCU)', 'GNI per capita (constant LCU)', 'Gross capital formation (constant LCU)', 'Gross domestic income (constant LCU)', 'Gross domestic savings (constant LCU)', 'Gross national expenditure (constant LCU)', 'Gross national expenditure deflator (base year varies by country)', 'Household final consumption expenditure (constant LCU)', 'Household final consumption expenditure, etc. (constant LCU)', 'Household final consumption expenditure, etc. (current LCU)', 'Imports of goods and services (constant LCU)', 'Industry, value added (constant LCU)', 'Industry, value added (current LCU)', 'Manufacturing, value added (current LCU)', 'Terms of trade adjustment (constant LCU)', 'Changes in inventories (constant LCU)', 'Changes in inventories (current LCU)', 'Gross fixed capital formation (constant LCU)', 'Gross fixed capital formation (current LCU)', 'Adjusted savings: gross savings (% of GNI)', 'Changes in inventories (current US$)', 'Consumer price index (2010 = 100)', 'Gross savings (% of GDP)', 'Gross savings (% of GNI)', 'Gross savings (current LCU)', 'Gross savings (current US$)', 'Net current transfers from abroad (current LCU)', 'Net current transfers from abroad (current US$)', 'Net secondary income (BoP, current US$)', 'Wholesale price index (2010 = 100)', 'Net current transfers from abroad (constant LCU)', 'Gross value added at factor cost (constant LCU)', 'Manufacturing, value added (constant LCU)', 'Services, etc., value added (constant LCU)', 'Services, etc., value added (current LCU)', 'Net income from abroad (constant LCU)', 'Deposit interest rate (%)', 'Internet users (per 100 people)', 'Net taxes on products (constant LCU)', 'Lending interest rate (%)', 'Risk premium on lending (lending rate minus treasury bill rate, %)', 'Gross fixed capital formation, private sector (current LCU)', 'Interest rate spread (lending rate minus deposit rate, %)', 'Agricultural land (% of land area)', 'Agricultural land (sq. km)', 'Agricultural machinery, tractors', 'Agricultural machinery, tractors per 100 sq. km of arable land', 'Arable land (% of land area)', 'Arable land (hectares per person)', 'Cereal production (metric tons)', 'Cereal yield (kg per hectare)', 'Crop production index (2004-2006 = 100)', 'Food production index (2004-2006 = 100)', 'Land area (sq. km)', 'Land under cereal production (hectares)', 'Livestock production index (2004-2006 = 100)', 'Permanent cropland (% of land area)', 'Population density (people per sq. km of land area)', 'Surface area (sq. km)', 'Agriculture, value added (annual % growth)', 'GDP growth (annual %)', 'GDP per capita growth (annual %)', 'General government final consumption expenditure (annual % growth)', 'GNI growth (annual %)', 'GNI per capita growth (annual %)', 'Industry, value added (annual % growth)', 'Services, etc., value added (annual % growth)', 'Exports of goods and services (annual % growth)', 'Imports of goods and services (annual % growth)', 'Inflation, consumer prices (annual %)', 'Inflation, GDP deflator (annual %)', 'Gross fixed capital formation (annual % growth)', 'Final consumption expenditure, etc. (annual % growth)', 'Gross capital formation (annual % growth)', 'Household final consumption expenditure (annual % growth)', 'Household final consumption expenditure per capita growth (annual %)', 'Household final consumption expenditure, etc. (annual % growth)', 'Manufacturing, value added (annual % growth)', 'Arable land (hectares)', 'Real interest rate (%)', 'Maternal mortality ratio (national estimate, per 100,000 live births)', 'Net migration', 'Renewable internal freshwater resources per capita (cubic meters)', 'Renewable internal freshwater resources, total (billion cubic meters)', 'GNI per capita, Atlas method (current US$)', 'GNI, Atlas method (current US$)', 'Agricultural raw materials exports (% of merchandise exports)', 'Agricultural raw materials imports (% of merchandise imports)', 'Food exports (% of merchandise exports)', 'Food imports (% of merchandise imports)', 'Fuel exports (% of merchandise exports)', 'Fuel imports (% of merchandise imports)', 'Manufactures exports (% of merchandise exports)', 'Manufactures imports (% of merchandise imports)', 'Ores and metals exports (% of merchandise exports)', 'Ores and metals imports (% of merchandise imports)', 'Average precipitation in depth (mm per year)', 'Annual freshwater withdrawals, total (% of internal resources)', 'Annual freshwater withdrawals, total (billion cubic meters)', 'Chemicals (% of value added in manufacturing)', 'Food, beverages and tobacco (% of value added in manufacturing)', 'Machinery and transport equipment (% of value added in manufacturing)', 'Other manufacturing (% of value added in manufacturing)', 'Textiles and clothing (% of value added in manufacturing)', 'Net bilateral aid flows from DAC donors, Australia (current US$)', 'Prevalence of stunting, height for age (% of children under 5)', 'Prevalence of underweight, weight for age (% of children under 5)', 'Prevalence of wasting, weight for height (% of children under 5)', 'Water productivity, total (constant 2005 US$ GDP per cubic meter of total freshwater withdrawal)', 'Annual freshwater withdrawals, agriculture (% of total freshwater withdrawal)', 'Annual freshwater withdrawals, domestic (% of total freshwater withdrawal)', 'Annual freshwater withdrawals, industry (% of total freshwater withdrawal)', 'Net official flows from UN agencies, UNDP (current US$)', 'Contraceptive prevalence (% of women ages 15-49)', 'Net official flows from UN agencies, UNHCR (current US$)', 'Net official flows from UN agencies, UNRWA (current US$)', 'Net official flows from UN agencies, UNTA (current US$)', 'Net official flows from UN agencies, WFP (current US$)', 'Prevalence of overweight, weight for height (% of children under 5)', 'Adjusted net enrolment rate, primary, both sexes (%)', 'Adjusted net enrolment rate, primary, female (%)', 'Adjusted net enrolment rate, primary, male (%)', 'Adjusted savings: carbon dioxide damage (% of GNI)', 'Adjusted savings: consumption of fixed capital (% of GNI)', 'Adjusted savings: education expenditure (% of GNI)', 'Adjusted savings: energy depletion (% of GNI)', 'Adjusted savings: mineral depletion (% of GNI)', 'Adjusted savings: natural resources depletion (% of GNI)', 'Adjusted savings: net forest depletion (% of GNI)', 'Air transport, freight (million ton-km)', 'Air transport, passengers carried', 'Air transport, registered carrier departures worldwide', 'Coal rents (% of GDP)', 'Enrolment in primary education, both sexes (number)', 'Enrolment in secondary education, both sexes (number)', 'Enrolment in secondary general, both sexes (number)', 'Enrolment in secondary vocational, both sexes (number)', 'Foreign direct investment, net inflows (% of GDP)', 'Foreign direct investment, net inflows (BoP, current US$)', 'Forest rents (% of GDP)', 'Gross enrolment ratio, pre-primary, both sexes (%)', 'Gross enrolment ratio, pre-primary, female (%)', 'Gross enrolment ratio, pre-primary, male (%)', 'Gross enrolment ratio, primary and secondary, gender parity index (GPI)', 'Gross enrolment ratio, primary, both sexes (%)', 'Gross enrolment ratio, primary, female (%)', 'Gross enrolment ratio, primary, gender parity index (GPI)', 'Gross enrolment ratio, primary, male (%)', 'Gross enrolment ratio, secondary, both sexes (%)', 'Gross enrolment ratio, secondary, female (%)', 'Gross enrolment ratio, secondary, gender parity index (GPI)', 'Gross enrolment ratio, secondary, male (%)', 'Gross enrolment ratio, tertiary, both sexes (%)', 'Gross enrolment ratio, tertiary, female (%)', 'Gross enrolment ratio, tertiary, gender parity index (GPI)', 'Gross enrolment ratio, tertiary, male (%)', 'Lower secondary completion rate, both sexes (%)', 'Mineral rents (% of GDP)', 'Natural gas rents (% of GDP)', 'Net enrolment rate, primary, both sexes (%)', 'Net enrolment rate, primary, female (%)', 'Net enrolment rate, primary, male (%)', 'Net enrolment rate, secondary, both sexes (%)', 'Net enrolment rate, secondary, female (%)', 'Net enrolment rate, secondary, male (%)', 'Net official flows from UN agencies, UNICEF (current US$)', 'Oil rents (% of GDP)', 'Out-of-school children of primary school age, both sexes (number)', 'Out-of-school children of primary school age, female (number)', 'Out-of-school children of primary school age, male (number)', 'Percentage of enrolment in primary education in private institutions (%)', 'Percentage of repeaters in primary education, all grades, both sexes (%)', 'Percentage of repeaters in primary education, all grades, female (%)', 'Percentage of repeaters in primary education, all grades, male (%)', 'Percentage of students in primary education who are female (%)', 'Percentage of students in secondary education who are female (%)', 'Percentage of students in secondary general education who are female (%)', 'Percentage of students in secondary vocational education who are female (%)', 'Percentage of teachers in primary education who are female (%)', 'Percentage of teachers in secondary education who are female (%)', 'Personal remittances, received (current US$)', 'Primary completion rate, both sexes (%)', 'Primary completion rate, female (%)', 'Primary completion rate, male (%)', 'Public and publicly guaranteed debt service (% of GNI)', 'Pupil-teacher ratio in primary education (headcount basis)', 'Pupil-teacher ratio in secondary education (headcount basis)', 'Survival rate to the last grade of primary education, both sexes (%)', 'Teachers in primary education, both sexes (number)', 'Teachers in secondary education, both sexes (number)', 'Teachers in secondary education, female (number)', 'Total debt service (% of GNI)', 'Total natural resources rents (% of GDP)', 'Adjusted net national income (current US$)', 'Adjusted net national income per capita (current US$)', 'Lower secondary completion rate, female (%)', 'Lower secondary completion rate, male (%)', 'Net financial flows, IBRD (NFL, current US$)', 'Net financial flows, IDA (NFL, current US$)', 'Personal remittances, paid (current US$)', 'Gross intake ratio to Grade 1 of primary education, both sexes (%)', 'Primary to secondary general education transition rate, both sexes (%)', 'Adjusted net national income (constant 2005 US$)', 'Adjusted net national income per capita (constant 2005 US$)', 'Net bilateral aid flows from DAC donors, Finland (current US$)', 'Net bilateral aid flows from DAC donors, New Zealand (current US$)', 'Percentage of teachers in tertiary education who are female (%)', 'Average grace period on new external debt commitments (years)', 'Average grace period on new external debt commitments, official (years)', 'Average grace period on new external debt commitments, private (years)', 'Average grant element on new external debt commitments (%)', 'Average grant element on new external debt commitments, official (%)', 'Average grant element on new external debt commitments, private (%)', 'Average interest on new external debt commitments (%)', 'Average interest on new external debt commitments, official (%)', 'Average interest on new external debt commitments, private (%)', 'Average maturity on new external debt commitments (years)', 'Average maturity on new external debt commitments, official (years)', 'Average maturity on new external debt commitments, private (years)', 'Commercial banks and other lending (PPG + PNG) (NFL, current US$)', 'Commitments, IBRD (COM, current US$)', 'Commitments, IDA (COM, current US$)', 'Commitments, official creditors (COM, current US$)', 'Commitments, private creditors (COM, current US$)', 'Commitments, public and publicly guaranteed (COM, current US$)', 'Concessional debt (% of total external debt)', 'Currency composition of PPG debt, all other currencies (%)', 'Currency composition of PPG debt, Deutsche mark (%)', 'Currency composition of PPG debt, French franc (%)', 'Currency composition of PPG debt, Japanese yen (%)', 'Currency composition of PPG debt, Multiple currencies (%)', 'Currency composition of PPG debt, Pound sterling (%)', 'Currency composition of PPG debt, SDR (%)', 'Currency composition of PPG debt, Swiss franc (%)', 'Currency composition of PPG debt, U.S. dollars (%)', 'Debt forgiveness grants (current US$)', 'Debt service on external debt, long-term (TDS, current US$)', 'Debt service on external debt, private nonguaranteed (PNG) (TDS, current US$)', 'Debt service on external debt, public and publicly guaranteed (PPG) (TDS, current US$)', 'Debt service on external debt, total (TDS, current US$)', 'Disbursements on external debt, long-term (DIS, current US$)', 'Disbursements on external debt, long-term + IMF (DIS, current US$)', 'Disbursements on external debt, private nonguaranteed (PNG) (DIS, current US$)', 'Disbursements on external debt, public and publicly guaranteed (PPG) (DIS, current US$)', 'EBRD, private nonguaranteed (NFL, current US$)', 'External debt stocks (% of GNI)', 'External debt stocks, concessional (DOD, current US$)', 'External debt stocks, long-term (DOD, current US$)', 'External debt stocks, long-term private sector (DOD, current US$)', 'External debt stocks, long-term public sector (DOD, current US$)', 'External debt stocks, private nonguaranteed (PNG) (DOD, current US$)', 'External debt stocks, public and publicly guaranteed (PPG) (DOD, current US$)', 'External debt stocks, short-term (DOD, current US$)', 'External debt stocks, total (DOD, current US$)', 'External debt stocks, variable rate (DOD, current US$)', 'IBRD loans and IDA credits (DOD, current US$)', 'IDA grants (current US$)', 'IFC, private nonguaranteed (NFL, current US$)', 'IMF charges (INT, current US$)', 'IMF purchases (DIS, current US$)', 'IMF repurchases (AMT, current US$)', 'IMF repurchases and charges (TDS, current US$)', 'Interest arrears, long-term DOD (US$)', 'Interest arrears, official creditors (current US$)', 'Interest arrears, private creditors (current US$)', 'Interest payments on external debt (% of GNI)', 'Interest payments on external debt, long-term (INT, current US$)', 'Interest payments on external debt, private nonguaranteed (PNG) (INT, current US$)', 'Interest payments on external debt, public and publicly guaranteed (PPG) (INT, current US$)', 'Interest payments on external debt, short-term (INT, current US$)', 'Interest payments on external debt, total (INT, current US$)', 'Multilateral debt (% of total external debt)', 'Multilateral debt service (% of public and publicly guaranteed debt service)', 'Multilateral debt service (TDS, current US$)', 'Net financial flows, bilateral (NFL, current US$)', 'Net financial flows, IMF concessional (NFL, current US$)', 'Net financial flows, IMF nonconcessional (NFL, current US$)', 'Net financial flows, multilateral (NFL, current US$)', 'Net financial flows, others (NFL, current US$)', 'Net financial flows, RDB concessional (NFL, current US$)', 'Net financial flows, RDB nonconcessional (NFL, current US$)', 'Net flows on external debt, long-term (NFL, current US$)', 'Net flows on external debt, private nonguaranteed (PNG) (NFL, current US$)', 'Net flows on external debt, public and publicly guaranteed (PPG) (NFL, current US$)', 'Net flows on external debt, short-term (NFL, current US$)', 'Net flows on external debt, total (NFL, current US$)', 'Net transfers on external debt, long-term (NTR, current US$)', 'Net transfers on external debt, private nonguaranteed (PNG) (NTR, current US$)', 'Net transfers on external debt, public and publicly guaranteed (PPG) (NTR, current US$)', 'Net transfers on external debt, total (NTR, current US$)', 'PNG, bonds (AMT, current US$)', 'PNG, bonds (DIS, current US$)', 'PNG, bonds (DOD, current US$)', 'PNG, bonds (INT, current US$)', 'PNG, bonds (NFL, current US$)', 'PNG, bonds (NTR, current US$)', 'PNG, bonds (TDS, current US$)', 'PNG, commercial banks and other creditors (AMT, current US$)', 'PNG, commercial banks and other creditors (DIS, current US$)', 'PNG, commercial banks and other creditors (DOD, current US$)', 'PNG, commercial banks and other creditors (INT, current US$)', 'PNG, commercial banks and other creditors (NFL, current US$)', 'PNG, commercial banks and other creditors (NTR, current US$)', 'PNG, commercial banks and other creditors (TDS, current US$)', 'Portfolio investment, bonds (PPG + PNG) (NFL, current US$)', 'PPG, bilateral (AMT, current US$)', 'PPG, bilateral (DIS, current US$)', 'PPG, bilateral (DOD, current US$)', 'PPG, bilateral (INT, current US$)', 'PPG, bilateral (NTR, current US$)', 'PPG, bilateral (TDS, current US$)', 'PPG, bilateral concessional (AMT, current US$)', 'PPG, bilateral concessional (DIS, current US$)', 'PPG, bilateral concessional (DOD, current US$)', 'PPG, bilateral concessional (INT, current US$)', 'PPG, bilateral concessional (NFL, current US$)', 'PPG, bilateral concessional (NTR, current US$)', 'PPG, bilateral concessional (TDS, current US$)', 'PPG, bonds (AMT, current US$)', 'PPG, bonds (DIS, current US$)', 'PPG, bonds (DOD, current US$)', 'PPG, bonds (INT, current US$)', 'PPG, bonds (NFL, current US$)', 'PPG, bonds (NTR, current US$)', 'PPG, bonds (TDS, current US$)', 'PPG, commercial banks (AMT, current US$)', 'PPG, commercial banks (DIS, current US$)', 'PPG, commercial banks (DOD, current US$)', 'PPG, commercial banks (INT, current US$)', 'PPG, commercial banks (NFL, current US$)', 'PPG, commercial banks (NTR, current US$)', 'PPG, commercial banks (TDS, current US$)', 'PPG, IBRD (AMT, current US$)', 'PPG, IBRD (DIS, current US$)', 'PPG, IBRD (DOD, current US$)', 'PPG, IBRD (INT, current US$)', 'PPG, IBRD (NTR, current US$)', 'PPG, IBRD (TDS, current US$)', 'PPG, IDA (AMT, current US$)', 'PPG, IDA (DIS, current US$)', 'PPG, IDA (DOD, current US$)', 'PPG, IDA (INT, current US$)', 'PPG, IDA (NTR, current US$)', 'PPG, IDA (TDS, current US$)', 'PPG, multilateral (AMT, current US$)', 'PPG, multilateral (DIS, current US$)', 'PPG, multilateral (DOD, current US$)', 'PPG, multilateral (INT, current US$)', 'PPG, multilateral (NTR, current US$)', 'PPG, multilateral concessional (AMT, current US$)', 'PPG, multilateral concessional (DIS, current US$)', 'PPG, multilateral concessional (DOD, current US$)', 'PPG, multilateral concessional (INT, current US$)', 'PPG, multilateral concessional (NFL, current US$)', 'PPG, multilateral concessional (NTR, current US$)', 'PPG, multilateral concessional (TDS, current US$)', 'PPG, official creditors (AMT, current US$)', 'PPG, official creditors (DIS, current US$)', 'PPG, official creditors (DOD, current US$)', 'PPG, official creditors (INT, current US$)', 'PPG, official creditors (NFL, current US$)', 'PPG, official creditors (NTR, current US$)', 'PPG, official creditors (TDS, current US$)', 'PPG, other private creditors (AMT, current US$)', 'PPG, other private creditors (DIS, current US$)', 'PPG, other private creditors (DOD, current US$)', 'PPG, other private creditors (INT, current US$)', 'PPG, other private creditors (NFL, current US$)', 'PPG, other private creditors (NTR, current US$)', 'PPG, other private creditors (TDS, current US$)', 'PPG, private creditors (AMT, current US$)', 'PPG, private creditors (DIS, current US$)', 'PPG, private creditors (DOD, current US$)', 'PPG, private creditors (INT, current US$)', 'PPG, private creditors (NFL, current US$)', 'PPG, private creditors (NTR, current US$)', 'PPG, private creditors (TDS, current US$)', 'Primary income on FDI, payments (current US$)', 'Principal arrears, long-term DOD (US$)', 'Principal arrears, official creditors (current US$)', 'Principal arrears, private creditors (current US$)', 'Principal repayments on external debt, long-term (AMT, current US$)', 'Principal repayments on external debt, long-term + IMF (AMT, current US$)', 'Principal repayments on external debt, private nonguaranteed (PNG) (AMT, current US$)', 'Principal repayments on external debt, public and publicly guaranteed (PPG) (AMT, current US$)', 'Short-term debt (% of total external debt)', 'Short-term debt (% of total reserves)', 'Undisbursed external debt, official creditors (UND, current US$)', 'Undisbursed external debt, private creditors (UND, current US$)', 'Undisbursed external debt, total (UND, current US$)', 'Use of IMF credit (DOD, current US$)', 'Gross intake ratio to Grade 1 of primary education, female (%)', 'Gross intake ratio to Grade 1 of primary education, male (%)', 'Survival rate to the last grade of primary education, female (%)', 'Survival rate to the last grade of primary education, male (%)', 'Percentage of repeaters in secondary general education, all grades, both sexes (%)', 'Percentage of repeaters in secondary general education, all grades, female (%)', 'Percentage of repeaters in secondary general education, all grades, male (%)', 'Primary to secondary general education transition rate, female (%)', 'Primary to secondary general education transition rate, male (%)', 'Adjusted net savings, excluding particulate emission damage (% of GNI)', 'Adjusted savings: net national savings (% of GNI)', 'Grants, excluding technical cooperation (BoP, current US$)', 'Technical cooperation grants (BoP, current US$)', 'Adjusted savings: carbon dioxide damage (current US$)', 'Adjusted savings: consumption of fixed capital (current US$)', 'Adjusted savings: education expenditure (current US$)', 'Adjusted savings: energy depletion (current US$)', 'Adjusted savings: mineral depletion (current US$)', 'Adjusted savings: net forest depletion (current US$)', 'Official entrance age to lower secondary education (years)', 'Official entrance age to primary education (years)', 'Theoretical duration of primary education (years)', 'Theoretical duration of secondary education (years)', 'Personal remittances, received (% of GDP)', 'Government expenditure on education as % of GDP (%)', 'Survival rate to Grade 5 of primary education, both sexes (%)', 'Survival rate to Grade 5 of primary education, female (%)', 'Survival rate to Grade 5 of primary education, male (%)', 'Adjusted net savings, excluding particulate emission damage (current US$)', 'Adjusted savings: net national savings (current US$)', 'Debt service (PPG and IMF only, % of exports of goods, services and primary income)', 'External debt stocks (% of exports of goods, services and primary income)', 'Interest payments on external debt (% of exports of goods, services and primary income)', 'Total debt service (% of exports of goods, services and primary income)', 'Expenditure on primary as % of government expenditure on education (%)', 'Expenditure on secondary as % of government expenditure on education (%)', 'Expenditure on tertiary as % of government expenditure on education (%)', 'Adult literacy rate, population 15+ years, both sexes (%)', 'Adult literacy rate, population 15+ years, female (%)', 'Adult literacy rate, population 15+ years, male (%)', 'Prevalence of overweight, weight for height, female (% of children under 5)', 'Prevalence of overweight, weight for height, male (% of children under 5)', 'Prevalence of severe wasting, weight for height (% of children under 5)', 'Prevalence of severe wasting, weight for height, female (% of children under 5)', 'Prevalence of severe wasting, weight for height, male (% of children under 5)', 'Prevalence of stunting, height for age, female (% of children under 5)', 'Prevalence of stunting, height for age, male (% of children under 5)', 'Prevalence of underweight, weight for age, female (% of children under 5)', 'Prevalence of underweight, weight for age, male (% of children under 5)', 'Prevalence of wasting, weight for height, female (% of children under 5)', 'Prevalence of wasting, weight for height, male (% of children under 5)', 'Foreign direct investment, net (BoP, current US$)', 'Total reserves (% of total external debt)', 'Adjusted net national income (annual % growth)', 'Adjusted net national income per capita (annual % growth)', 'Net bilateral aid flows from DAC donors, Ireland (current US$)', 'Government expenditure per secondary student as % of GDP per capita (%)', 'Government expenditure per primary student as % of GDP per capita (%)', 'Listed domestic companies, total', 'Market capitalization of listed domestic companies (% of GDP)', 'Market capitalization of listed domestic companies (current US$)', 'Stocks traded, total value (% of GDP)', 'Stocks traded, total value (current US$)', 'Real effective exchange rate index (2010 = 100)', 'Youth literacy rate, population 15-24 years, both sexes (%)', 'Youth literacy rate, population 15-24 years, female (%)', 'Youth literacy rate, population 15-24 years, gender parity index (GPI)', 'Youth literacy rate, population 15-24 years, male (%)', 'Foreign direct investment, net outflows (% of GDP)', 'Stocks traded, turnover ratio of domestic shares (%)', 'Poverty headcount ratio at national poverty lines (% of population)', 'Rural poverty headcount ratio at national poverty lines (% of rural population)', 'Urban poverty headcount ratio at national poverty lines (% of urban population)', 'Net official flows from UN agencies, UNFPA (current US$)', 'Net official flows from UN agencies, IFAD (current US$)', 'Agriculture value added per worker (constant 2005 US$)', 'Immunization, DPT (% of children ages 12-23 months)', 'Labor force participation rate for ages 15-24, female (%) (national estimate)', 'Labor force participation rate for ages 15-24, male (%) (national estimate)', 'Labor force participation rate for ages 15-24, total (%) (national estimate)', 'Labor force participation rate, female (% of female population ages 15+) (national estimate)', 'Labor force participation rate, male (% of male population ages 15+) (national estimate)', 'Labor force participation rate, total (% of total population ages 15+) (national estimate)', 'Rail lines (total route-km)', 'Railways, goods transported (million ton-km)', 'Railways, passengers carried (million passenger-km)', 'Net bilateral aid flows from DAC donors, Spain (current US$)', 'Immunization, measles (% of children ages 12-23 months)', 'Newborns protected against tetanus (%)', 'Employment to population ratio, 15+, female (%) (national estimate)', 'Employment to population ratio, 15+, male (%) (national estimate)', 'Employment to population ratio, 15+, total (%) (national estimate)', 'Employment to population ratio, ages 15-24, female (%) (national estimate)', 'Employment to population ratio, ages 15-24, male (%) (national estimate)', 'Employment to population ratio, ages 15-24, total (%) (national estimate)', 'Unemployment, youth female (% of female labor force ages 15-24) (national estimate)', 'Unemployment, youth male (% of male labor force ages 15-24) (national estimate)', 'Unemployment, youth total (% of total labor force ages 15-24) (national estimate)', 'Export value index (2000 = 100)', 'Import value index (2000 = 100)', 'GDP per person employed (constant 1990 PPP $)', 'Export volume index (2000 = 100)', 'Import volume index (2000 = 100)', 'Net barter terms of trade index (2000 = 100)', 'Ratio of female to male labor force participation rate (%) (national estimate)', 'Unemployment, total (% of total labor force) (national estimate)', 'Contributing family workers, female (% of females employed)', 'Contributing family workers, male (% of males employed)', 'Contributing family workers, total (% of total employed)', 'Employment in agriculture (% of total employment)', 'Employment in agriculture, female (% of female employment)', 'Employment in agriculture, male (% of male employment)', 'Employment in industry (% of total employment)', 'Employment in industry, female (% of female employment)', 'Employment in industry, male (% of male employment)', 'Employment in services (% of total employment)', 'Employment in services, female (% of female employment)', 'Employment in services, male (% of male employment)', 'Long-term unemployment (% of total unemployment)', 'Long-term unemployment, female (% of female unemployment)', 'Long-term unemployment, male (% of male unemployment)', 'Self-employed, female (% of females employed)', 'Self-employed, male (% of males employed)', 'Self-employed, total (% of total employed)', 'Unemployment, female (% of female labor force) (national estimate)', 'Unemployment, male (% of male labor force) (national estimate)', 'Wage and salaried workers, female (% of females employed)', 'Wage and salaried workers, total (% of total employed)', 'Wage and salary workers, male (% of males employed)', 'Part time employment, female (% of total female employment)', 'Part time employment, female (% of total part time employment)', 'Part time employment, male (% of total male employment)', 'Part time employment, total (% of total employment)', 'Unemployment with primary education (% of total unemployment)', 'Unemployment with primary education, female (% of female unemployment)', 'Unemployment with primary education, male (% of male unemployment)', 'Unemployment with secondary education (% of total unemployment)', 'Unemployment with secondary education, female (% of female unemployment)', 'Unemployment with secondary education, male (% of male unemployment)', 'Unemployment with tertiary education (% of total unemployment)', 'Unemployment with tertiary education, female (% of female unemployment)', 'Unemployment with tertiary education, male (% of male unemployment)', 'Employers, total (% of employment)', 'Vulnerable employment, total (% of total employment)', 'Employers, female (% of employment)', 'Employers, male (% of employment)', 'Labor force with primary education (% of total)', 'Labor force with primary education, female (% of female labor force)', 'Labor force with primary education, male (% of male labor force)', 'Labor force with secondary education (% of total)', 'Labor force with secondary education, female (% of female labor force)', 'Labor force with secondary education, male (% of male labor force)', 'Labor force with tertiary education (% of total)', 'Labor force with tertiary education, female (% of female labor force)', 'Labor force with tertiary education, male (% of male labor force)', 'Vulnerable employment, female (% of female employment)', 'Vulnerable employment, male (% of male employment)', 'Scientific and technical journal articles', 'Poverty gap at $1.90 a day (2011 PPP) (%)', 'Poverty gap at $3.10 a day (2011 PPP) (%)', 'Poverty headcount ratio at $1.90 a day (2011 PPP) (% of population)', 'Poverty headcount ratio at $3.10 a day (2011 PPP) (% of population)', 'GINI index (World Bank estimate)', 'Income share held by fourth 20%', 'Income share held by highest 10%', 'Income share held by highest 20%', 'Income share held by lowest 10%', 'Income share held by lowest 20%', 'Income share held by second 20%', 'Income share held by third 20%', 'Government expenditure per tertiary student as % of GDP per capita (%)', 'Pregnant women receiving prenatal care (%)', 'Births attended by skilled health staff (% of total)', 'Armed forces personnel, total', 'Diarrhea treatment (% of children under 5 who received ORS packet)', 'Teenage mothers (% of women ages 15-19 who have had children or are currently pregnant)', 'Wanted fertility rate (births per woman)', 'Female legislators, senior officials and managers (% of total)', 'Exclusive breastfeeding (% of children under 6 months)', 'Military expenditure (% of GDP)', 'High-technology exports (% of manufactured exports)', 'Share of tariff lines with international peaks, all products (%)', 'Share of tariff lines with international peaks, manufactured products (%)', 'Share of tariff lines with international peaks, primary products (%)', 'Share of tariff lines with specific rates, all products (%)', 'Share of tariff lines with specific rates, manufactured products (%)', 'Share of tariff lines with specific rates, primary products (%)', 'Tariff rate, applied, simple mean, all products (%)', 'Tariff rate, applied, simple mean, manufactured products (%)', 'Tariff rate, applied, simple mean, primary products (%)', 'Tariff rate, applied, weighted mean, all products (%)', 'Tariff rate, applied, weighted mean, manufactured products (%)', 'Tariff rate, applied, weighted mean, primary products (%)', 'Tariff rate, most favored nation, simple mean, all products (%)', 'Tariff rate, most favored nation, simple mean, manufactured products (%)', 'Tariff rate, most favored nation, simple mean, primary products (%)', 'Tariff rate, most favored nation, weighted mean, all products (%)', 'Tariff rate, most favored nation, weighted mean, manufactured products (%)', 'Tariff rate, most favored nation, weighted mean, primary products (%)', 'High-technology exports (current US$)', 'Military expenditure (current LCU)', 'Debt buyback (current US$)', 'Debt forgiveness or reduction (current US$)', 'Debt stock reduction (current US$)', 'Debt stock rescheduled (current US$)', 'Interest forgiven (current US$)', 'Interest rescheduled (capitalized) (current US$)', 'Interest rescheduled, official (current US$)', 'Interest rescheduled, private (current US$)', 'Net change in interest arrears (current US$)', 'Principal forgiven (current US$)', 'Principal rescheduled (current US$)', 'Principal rescheduled, official (current US$)', 'Principal rescheduled, private (current US$)', 'Residual, debt stock-flow reconciliation (current US$)', 'Total amount of debt rescheduled (current US$)', 'Total change in external debt stocks (current US$)', 'Battle-related deaths (number of people)', 'Access to electricity (% of population)', 'Access to electricity, rural (% of rural population)', 'Access to electricity, urban (% of urban population)', 'Access to non-solid fuel (% of population)', 'Adjusted net savings, including particulate emission damage (% of GNI)', 'Adjusted savings: particulate emission damage (% of GNI)', 'Agricultural methane emissions (% of total)', 'Agricultural nitrous oxide emissions (% of total)', 'Armed forces personnel (% of total labor force)', 'CO2 emissions (kg per 2011 PPP $ of GDP)', 'CO2 emissions (kg per PPP $ of GDP)', 'Emigration rate of tertiary educated (% of total tertiary educated population)', 'Energy intensity level of primary energy (MJ/$2011 PPP GDP)', 'Energy related methane emissions (% of total)', 'Energy use (kg of oil equivalent) per $1,000 GDP (constant 2011 PPP)', 'Forest area (% of land area)', 'Forest area (sq. km)', 'GDP per capita, PPP (constant 2011 international $)', 'GDP per capita, PPP (current international $)', 'GDP per unit of energy use (constant 2011 PPP $ per kg of oil equivalent)', 'GDP per unit of energy use (PPP $ per kg of oil equivalent)', 'GDP, PPP (constant 2011 international $)', 'GDP, PPP (current international $)', 'GNI per capita, PPP (current international $)', 'GNI, PPP (current international $)', 'Household final consumption expenditure, PPP (current international $)', 'Improved sanitation facilities (% of population with access)', 'Improved sanitation facilities, rural (% of rural population with access)', 'Improved sanitation facilities, urban (% of urban population with access)', 'Improved water source (% of population with access)', 'Improved water source, rural (% of rural population with access)', 'Improved water source, urban (% of urban population with access)', 'Labor force participation rate for ages 15-24, female (%) (modeled ILO estimate)', 'Labor force participation rate for ages 15-24, male (%) (modeled ILO estimate)', 'Labor force participation rate for ages 15-24, total (%) (modeled ILO estimate)', 'Labor force participation rate, female (% of female population ages 15+) (modeled ILO estimate)', 'Labor force participation rate, female (% of female population ages 15-64) (modeled ILO estimate)', 'Labor force participation rate, male (% of male population ages 15+) (modeled ILO estimate)', 'Labor force participation rate, male (% of male population ages 15-64) (modeled ILO estimate)', 'Labor force participation rate, total (% of total population ages 15+) (modeled ILO estimate)', 'Labor force participation rate, total (% of total population ages 15-64) (modeled ILO estimate)', 'Labor force, female (% of total labor force)', 'Labor force, total', 'Land area where elevation is below 5 meters (% of total land area)', 'Lifetime risk of maternal death (%)', 'Lifetime risk of maternal death (1 in: rate varies by country)', 'Marine protected areas (% of territorial waters)', 'Maternal mortality ratio (modeled estimate, per 100,000 live births)', 'Methane emissions (kt of CO2 equivalent)', 'Methane emissions in energy sector (thousand metric tons of CO2 equivalent)', 'Mortality rate, infant, female (per 1,000 live births)', 'Mortality rate, infant, male (per 1,000 live births)', 'Mortality rate, neonatal (per 1,000 live births)', 'Mortality rate, under-5, female (per 1,000 live births)', 'Mortality rate, under-5, male (per 1,000 live births)', 'Net bilateral aid flows from DAC donors, Luxembourg (current US$)', 'Nitrous oxide emissions (thousand metric tons of CO2 equivalent)', 'Nitrous oxide emissions in energy sector (thousand metric tons of CO2 equivalent)', 'Nitrous oxide emissions in industrial and energy processes (% of total nitrous oxide emissions)', 'Number of maternal deaths', 'Other greenhouse gas emissions, HFC, PFC and SF6 (thousand metric tons of CO2 equivalent)', 'PM2.5 air pollution, mean annual exposure (micrograms per cubic meter)', 'PM2.5 air pollution, population exposed to levels exceeding WHO guideline value (% of total)', 'Population living in areas where elevation is below 5 meters (% of total population)', 'Prevalence of anemia among children (% of children under 5)', 'Prevalence of anemia among non-pregnant women (% of women ages 15-49)', 'Prevalence of anemia among pregnant women (%)', 'Prevalence of HIV, female (% ages 15-24)', 'Prevalence of HIV, male (% ages 15-24)', 'Prevalence of HIV, total (% of population ages 15-49)', 'Proportion of seats held by women in national parliaments (%)', 'Ratio of female to male labor force participation rate (%) (modeled ILO estimate)', 'Refugee population by country or territory of asylum', 'Refugee population by country or territory of origin', 'Renewable electricity output (% of total electricity output)', 'Renewable energy consumption (% of total final energy consumption)', 'SF6 gas emissions (thousand metric tons of CO2 equivalent)', 'Terrestrial and marine protected areas (% of total territorial area)', 'Terrestrial protected areas (% of total land area)', \"Women's share of population ages 15+ living with HIV (%)\", 'Completeness of death registration with cause-of-death information (%)', 'Share of women in wage employment in the nonagricultural sector (% of total nonagricultural employment)', 'HFC gas emissions (thousand metric tons of CO2 equivalent)', 'Household final consumption expenditure, PPP (constant 2011 international $)', 'Net official aid received (constant 2012 US$)', 'Net official aid received (current US$)', 'PFC gas emissions (thousand metric tons of CO2 equivalent)', 'GNI per capita, PPP (constant 2011 international $)', 'GNI, PPP (constant 2011 international $)', 'Incidence of tuberculosis (per 100,000 people)', 'Tuberculosis case detection rate (%, all forms)', 'Unmet need for contraception (% of married women ages 15-49)', 'Community health workers (per 1,000 people)', 'Investment in transport with private participation (current US$)', 'Number of neonatal deaths', 'Nurses and midwives (per 1,000 people)', 'Cash surplus/deficit (% of GDP)', 'Expense (% of GDP)', 'Military expenditure (% of central government expenditure)', 'Revenue, excluding grants (% of GDP)', 'Tax revenue (% of GDP)', 'Grants and other revenue (% of revenue)', 'Other taxes (% of revenue)', 'Taxes on goods and services (% of revenue)', 'Taxes on income, profits and capital gains (% of revenue)', 'Taxes on international trade (% of revenue)', 'Interest payments (% of revenue)', 'Central government debt, total (% of GDP)', 'Interest payments (% of expense)', 'Net incurrence of liabilities, domestic (% of GDP)', 'Net incurrence of liabilities, foreign (% of GDP)', 'Children (0-14) living with HIV', 'Adjusted net savings, including particulate emission damage (current US$)', 'Adjusted savings: particulate emission damage (current US$)', 'Agricultural methane emissions (thousand metric tons of CO2 equivalent)', 'Agricultural nitrous oxide emissions (thousand metric tons of CO2 equivalent)', 'Industrial nitrous oxide emissions (thousand metric tons of CO2 equivalent)', 'PPP conversion factor, GDP (LCU per international $)', 'Price level ratio of PPP conversion factor (GDP) to market exchange rate', 'PPP conversion factor, private consumption (LCU per international $)', 'GHG net emissions/removals by LUCF (Mt of CO2 equivalent)', 'Investment in telecoms with private participation (current US$)', 'S&P Global Equity Indices (annual % change)', 'Cash surplus/deficit (current LCU)', 'Central government debt, total (current LCU)', 'Compensation of employees (% of expense)', 'Compensation of employees (current LCU)', 'Customs and other import duties (% of tax revenue)', 'Customs and other import duties (current LCU)', 'Expense (current LCU)', 'Goods and services expense (% of expense)', 'Goods and services expense (current LCU)', 'Grants and other revenue (current LCU)', 'Interest payments (current LCU)', 'Net incurrence of liabilities, domestic (current LCU)', 'Net incurrence of liabilities, foreign (current LCU)', 'Net ODA received (% of central government expense)', 'Other expense (% of expense)', 'Other expense (current LCU)', 'Other taxes (current LCU)', 'Revenue, excluding grants (current LCU)', 'Subsidies and other transfers (% of expense)', 'Subsidies and other transfers (current LCU)', 'Tax revenue (current LCU)', 'Taxes on exports (% of tax revenue)', 'Taxes on exports (current LCU)', 'Taxes on goods and services (% value added of industry and services)', 'Taxes on goods and services (current LCU)', 'Taxes on international trade (current LCU)', 'Taxes on income, profits and capital gains (% of total taxes)', 'Taxes on income, profits and capital gains (current LCU)', 'Social contributions (% of revenue)', 'Social contributions (current LCU)', 'Investment in energy with private participation (current US$)', 'ARI treatment (% of children under 5 taken to a health provider)', 'Diarrhea treatment (% of children under 5 receiving oral rehydration and continued feeding)', 'Female headed households (% of households with a female head)', 'Low-birthweight babies (% of births)', 'Employment to population ratio, 15+, female (%) (modeled ILO estimate)', 'Employment to population ratio, 15+, male (%) (modeled ILO estimate)', 'Employment to population ratio, 15+, total (%) (modeled ILO estimate)', 'Employment to population ratio, ages 15-24, female (%) (modeled ILO estimate)', 'Employment to population ratio, ages 15-24, male (%) (modeled ILO estimate)', 'Employment to population ratio, ages 15-24, total (%) (modeled ILO estimate)', 'Prevalence of undernourishment (% of population)', 'Unemployment, female (% of female labor force)', 'Unemployment, male (% of male labor force)', 'Unemployment, total (% of total labor force)', 'Unemployment, youth female (% of female labor force ages 15-24) (modeled ILO estimate)', 'Unemployment, youth male (% of male labor force ages 15-24) (modeled ILO estimate)', 'Unemployment, youth total (% of total labor force ages 15-24) (modeled ILO estimate)', 'Pump price for diesel fuel (US$ per liter)', 'Pump price for gasoline (US$ per liter)', 'Investment in water and sanitation with private participation (current US$)', 'Depth of the food deficit (kilocalories per person per day)', 'Merchandise exports to developing economies in Europe & Central Asia (% of total merchandise exports)', 'Merchandise imports from developing economies in Europe & Central Asia (% of total merchandise imports)', 'Net bilateral aid flows from DAC donors, Iceland (current US$)', 'Poverty gap at national poverty lines (%)', 'Rural poverty gap at national poverty lines (%)', 'Urban poverty gap at national poverty lines (%)', 'Consumption of iodized salt (% of households)', 'Tuberculosis treatment success rate (% of new cases)', 'Condom use, population ages 15-24, female (% of females ages 15-24)', 'Condom use, population ages 15-24, male (% of males ages 15-24)', 'Children in employment, female (% of female children ages 7-14)', 'Children in employment, male (% of male children ages 7-14)', 'Children in employment, study and work (% of children in employment, ages 7-14)', 'Children in employment, study and work, female (% of female children in employment, ages 7-14)', 'Children in employment, study and work, male (% of male children in employment, ages 7-14)', 'Children in employment, total (% of children ages 7-14)', 'Children in employment, work only (% of children in employment, ages 7-14)', 'Children in employment, work only, female (% of female children in employment, ages 7-14)', 'Children in employment, work only, male (% of male children in employment, ages 7-14)', 'External resources for health (% of total expenditure on health)', 'Health expenditure per capita (current US$)', 'Health expenditure per capita, PPP (constant 2011 international $)', 'Health expenditure, private (% of GDP)', 'Health expenditure, public (% of GDP)', 'Health expenditure, public (% of total health expenditure)', 'Health expenditure, total (% of GDP)', 'International tourism, number of arrivals', 'International tourism, receipts (current US$)', 'Out-of-pocket health expenditure (% of private expenditure on health)', 'Out-of-pocket health expenditure (% of total expenditure on health)', 'International tourism, expenditures (current US$)', 'International tourism, expenditures for passenger transport items (current US$)', 'International tourism, expenditures for travel items (current US$)', 'International tourism, number of departures', 'International tourism, receipts for passenger transport items (current US$)', 'International tourism, receipts for travel items (current US$)', 'Intentional homicides (per 100,000 people)', 'Health expenditure, public (% of government expenditure)', 'Binding coverage, all products (%)', 'Binding coverage, manufactured products (%)', 'Binding coverage, primary products (%)', 'Bound rate, simple mean, all products (%)', 'Bound rate, simple mean, manufactured products (%)', 'Bound rate, simple mean, primary products (%)', 'Expenditure on education as % of total government expenditure (%)', 'Net bilateral aid flows from DAC donors, Greece (current US$)', 'Research and development expenditure (% of GDP)', 'Researchers in R&D (per million people)', 'Technicians in R&D (per million people)', 'Bank nonperforming loans to total gross loans (%)', 'Internally displaced persons (number, high estimate)', 'Percentage of enrolment in secondary education in private institutions (%)', 'Net intake rate to Grade 1 of primary education, both sexes (%)', 'Net intake rate to Grade 1 of primary education, female (%)', 'Net intake rate to Grade 1 of primary education, male (%)', 'Percentage of teachers in primary education who are trained, both sexes (%)', 'Internally displaced persons (number, low estimate)', 'Bank liquid reserves to bank assets ratio (%)', 'Broad money (% of GDP)', 'Broad money (current LCU)', 'Broad money to total reserves ratio', 'Claims on central government, etc. (% GDP)', 'Claims on other sectors of the domestic economy (% of GDP)', 'Domestic credit provided by financial sector (% of GDP)', 'Domestic credit to private sector (% of GDP)', 'Domestic credit to private sector by banks (% of GDP)', 'Liquid liabilities (M3) as % of GDP', 'Money (current LCU)', 'Money and quasi money (M2) (current LCU)', 'Money and quasi money (M2) as % of GDP', 'Money and quasi money (M2) to total reserves ratio', 'Net domestic credit (current LCU)', 'Net foreign assets (current LCU)', 'Quasi money (current LCU)', 'Quasi-liquid liabilities (% of GDP)', 'Percentage of female teachers in primary education who are trained, female (%)', 'Percentage of male teachers in primary education who are trained, male (%)', 'Fixed broadband subscriptions', 'Fixed broadband subscriptions (per 100 people)', 'All education staff compensation, primary (% of total expenditure in primary public institutions)', 'All education staff compensation, secondary (% of total expenditure in secondary public institutions)', 'All education staff compensation, tertiary (% of total expenditure in tertiary public institutions)', 'All education staff compensation, total (% of total expenditure in public institutions)', 'Current education expenditure, primary (% of total expenditure in primary public institutions)', 'Current education expenditure, secondary (% of total expenditure in secondary public institutions)', 'Current education expenditure, tertiary (% of total expenditure in tertiary public institutions)', 'Current education expenditure, total (% of total expenditure in public institutions)', 'Share of youth not in education, employment, or training, female (% of female youth population)', 'Share of youth not in education, employment, or training, male (% of male youth population)', 'Share of youth not in education, employment, or training, total (% of youth population)', 'Broad money growth (annual %)', 'Claims on central government (annual growth as % of broad money)', 'Claims on other sectors of the domestic economy (annual growth as % of broad money)', 'Claims on private sector (annual growth as % of broad money)', 'Money and quasi money growth (annual %)', 'Children with fever receiving antimalarial drugs (% of children under age 5 with fever)', 'Child employment in agriculture (% of economically active children ages 7-14)', 'Child employment in agriculture, female (% of female economically active children ages 7-14)', 'Child employment in agriculture, male (% of male economically active children ages 7-14)', 'Child employment in manufacturing (% of economically active children ages 7-14)', 'Child employment in manufacturing, female (% of female economically active children ages 7-14)', 'Child employment in manufacturing, male (% of male economically active children ages 7-14)', 'Child employment in services (% of economically active children ages 7-14)', 'Child employment in services, female (% of female economically active children ages 7-14)', 'Child employment in services, male (% of male economically active children ages 7-14)', 'Vitamin A supplementation coverage rate (% of children ages 6-59 months)', 'Use of insecticide-treated bed nets (% of under-5 population)', 'Average working hours of children, study and work, ages 7-14 (hours per week)', 'Average working hours of children, study and work, female, ages 7-14 (hours per week)', 'Average working hours of children, study and work, male, ages 7-14 (hours per week)', 'Average working hours of children, working only, ages 7-14 (hours per week)', 'Average working hours of children, working only, female, ages 7-14 (hours per week)', 'Average working hours of children, working only, male, ages 7-14 (hours per week)', 'Children in employment, self-employed (% of children in employment, ages 7-14)', 'Children in employment, self-employed, female (% of female children in employment, ages 7-14)', 'Children in employment, self-employed, male (% of male children in employment, ages 7-14)', 'Children in employment, unpaid family workers (% of children in employment, ages 7-14)', 'Children in employment, unpaid family workers, female (% of female children in employment, ages 7-14)', 'Children in employment, unpaid family workers, male (% of male children in employment, ages 7-14)', 'Children in employment, wage workers (% of children in employment, ages 7-14)', 'Children in employment, wage workers, female (% of female children in employment, ages 7-14)', 'Children in employment, wage workers, male (% of male children in employment, ages 7-14)', 'Completeness of infant death reporting (% of reported infant deaths to estimated infant deaths)', 'Women who believe a husband is justified in beating his wife (any of five reasons) (%)', 'Women who believe a husband is justified in beating his wife when she argues with him (%)', 'Women who believe a husband is justified in beating his wife when she burns the food (%)', 'Women who believe a husband is justified in beating his wife when she goes out without telling him (%)', 'Women who believe a husband is justified in beating his wife when she neglects the children (%)', 'Women who believe a husband is justified in beating his wife when she refuses sex with him (%)', 'Antiretroviral therapy coverage (% of people living with HIV)', 'Cause of death, by communicable diseases and maternal, prenatal and nutrition conditions (% of total)', 'Cause of death, by injury (% of total)', 'Cause of death, by non-communicable diseases (% of total)', 'ICT goods exports (% of total goods exports)', 'ICT goods imports (% total goods imports)', 'Bank capital to assets ratio (%)', 'Smoking prevalence, females (% of adults)', 'Smoking prevalence, males (% of adults)', 'Container port traffic (TEU: 20 foot equivalent units)', 'Completeness of birth registration (%)', 'Completeness of birth registration, rural (%)', 'Completeness of birth registration, urban (%)', 'Secure Internet servers', 'Secure Internet servers (per 1 million people)', 'Currency composition of PPG debt, Euro (%)', 'Agricultural irrigated land (% of total agricultural land)', 'Borrowers from commercial banks (per 1,000 adults)', 'Commercial bank branches (per 100,000 adults)', 'Depositors with commercial banks (per 1,000 adults)', 'Completeness of total death reporting (% of reported total deaths to estimated total deaths)', 'Automated teller machines (ATMs) (per 100,000 adults)', 'Fertilizer consumption (% of fertilizer production)', 'Fertilizer consumption (kilograms per hectare of arable land)', 'Firms that do not report all sales for tax purposes (% of firms)', 'Firms using banks to finance working capital (% of firms)', 'Average time to clear exports through customs (days)', 'Delay in obtaining an electrical connection (days)', 'Firms expected to give gifts in meetings with tax officials (% of firms)', 'Firms offering formal training (% of firms)', 'Firms using banks to finance investment (% of firms)', 'Informal payments to public officials (% of firms)', 'Internationally-recognized quality certification (% of firms)', 'Losses due to theft, robbery, vandalism, and arson (% sales)', 'Time spent dealing with the requirements of government regulations (% of senior management time)', 'Cost of business start-up procedures (% of GNI per capita)', 'Start-up procedures to register a business (number)', 'Time required to enforce a contract (days)', 'Time required to start a business (days)', 'Number of visits or required meetings with tax officials', 'Time required to obtain an operating license (days)', 'Survey mean consumption or income per capita, bottom 40% of population (2011 PPP $ per day)', 'Survey mean consumption or income per capita, total population (2011 PPP $ per day)', 'New business density (new registrations per 1,000 people ages 15-64)', 'Private credit bureau coverage (% of adults)', 'Procedures to register property (number)', 'Public credit registry coverage (% of adults)', 'Time required to register property (days)', 'Methodology assessment of statistical capacity (scale 0 - 100)', 'Overall level of statistical capacity (scale 0 - 100)', 'Periodicity and timeliness assessment of statistical capacity (scale 0 - 100)', 'Source data assessment of statistical capacity (scale 0 - 100)', 'New businesses registered (number)', 'Liner shipping connectivity index (maximum value in 2004 = 100)', 'Adequacy of social insurance programs (% of total welfare of beneficiary households)', 'Adequacy of social protection and labor programs (% of total welfare of beneficiary households)', 'Adequacy of unemployment benefits and ALMP (% of total welfare of beneficiary households)', 'Benefits incidence in poorest quintile (%) - All Labor Market', 'Benefits incidence in poorest quintile (%) - All Social Insurance', 'Benefits incidence in poorest quintile (%) -All Social Protection and Labor', 'Coverage (%) - All Labor Market', 'Coverage (%) - All Social Insurance', 'Coverage (%) -All Social Protection and Labor', 'Coverage (%) - All Social Assistance', 'Firms with female participation in ownership (% of firms)', 'Adequacy of social safety net programs (% of total welfare of beneficiary households)', 'Benefits incidence in poorest quintile (%) - All Social Assistance', 'Business extent of disclosure index (0=less disclosure to 10=more disclosure)', 'Charges for the use of intellectual property, payments (BoP, current US$)', 'Charges for the use of intellectual property, receipts (BoP, current US$)', 'Commercial service exports (current US$)', 'Commercial service imports (current US$)', 'Communications, computer, etc. (% of service exports, BoP)', 'Communications, computer, etc. (% of service imports, BoP)', 'Computer, communications and other services (% of commercial service exports)', 'Computer, communications and other services (% of commercial service imports)', 'Cost to export (US$ per container)', 'Cost to import (US$ per container)', 'CPIA building human resources rating (1=low to 6=high)', 'CPIA business regulatory environment rating (1=low to 6=high)', 'CPIA debt policy rating (1=low to 6=high)', 'CPIA economic management cluster average (1=low to 6=high)', 'CPIA efficiency of revenue mobilization rating (1=low to 6=high)', 'CPIA equity of public resource use rating (1=low to 6=high)', 'CPIA financial sector rating (1=low to 6=high)', 'CPIA fiscal policy rating (1=low to 6=high)', 'CPIA gender equality rating (1=low to 6=high)', 'CPIA macroeconomic management rating (1=low to 6=high)', 'CPIA policies for social inclusion/equity cluster average (1=low to 6=high)', 'CPIA policy and institutions for environmental sustainability rating (1=low to 6=high)', 'CPIA property rights and rule-based governance rating (1=low to 6=high)', 'CPIA public sector management and institutions cluster average (1=low to 6=high)', 'CPIA quality of budgetary and financial management rating (1=low to 6=high)', 'CPIA quality of public administration rating (1=low to 6=high)', 'CPIA social protection rating (1=low to 6=high)', 'CPIA structural policies cluster average (1=low to 6=high)', 'CPIA trade rating (1=low to 6=high)', 'CPIA transparency, accountability, and corruption in the public sector rating (1=low to 6=high)', 'Documents to export (number)', 'Documents to import (number)', 'Exports of goods and services (BoP, current US$)', 'Exports of goods, services and primary income (BoP, current US$)', 'Goods exports (BoP, current US$)', 'Goods imports (BoP, current US$)', 'IDA resource allocation index (1=low to 6=high)', 'Imports of goods and services (BoP, current US$)', 'Imports of goods, services and primary income (BoP, current US$)', 'Insurance and financial services (% of commercial service imports)', 'Insurance and financial services (% of service imports, BoP)', 'International tourism, expenditures (% of total imports)', 'International tourism, receipts (% of total exports)', 'Net bilateral aid flows from DAC donors, Czech Republic (current US$)', 'Net bilateral aid flows from DAC donors, Poland (current US$)', 'Net bilateral aid flows from DAC donors, Slovak Republic (current US$)', 'Net ODA received (% of imports of goods, services and primary income)', 'Net official flows from UN agencies, UNAIDS (current US$)', 'Primary income payments (BoP, current US$)', 'Primary income receipts (BoP, current US$)', 'Procedures to build a warehouse (number)', 'Secondary income, other sectors, payments (BoP, current US$)', 'Service exports (BoP, current US$)', 'Service imports (BoP, current US$)', 'Tax payments (number)', 'Time required to build a warehouse (days)', 'Time to export (days)', 'Time to import (days)', 'Time to prepare and pay taxes (hours)', 'Total reserves in months of imports', 'Total tax rate (% of commercial profits)', 'Trade in services (% of GDP)', 'Transport services (% of commercial service exports)', 'Transport services (% of commercial service imports)', 'Transport services (% of service exports, BoP)', 'Transport services (% of service imports, BoP)', 'Travel services (% of commercial service exports)', 'Travel services (% of commercial service imports)', 'Travel services (% of service exports, BoP)', 'Travel services (% of service imports, BoP)', 'ICT service exports (% of service exports, BoP)', 'ICT service exports (BoP, current US$)', 'Insurance and financial services (% of commercial service exports)', 'Insurance and financial services (% of service exports, BoP)', 'Personal transfers, receipts (BoP, current US$)', 'Secondary income receipts (BoP, current US$)', 'Public and publicly guaranteed debt service (% of exports of goods, services and primary income)', 'Short-term debt (% of exports of goods, services and primary income)', '2005 PPP conversion factor, GDP (LCU per international $)', '2005 PPP conversion factor, private consumption (LCU per international $)', 'GEF benefits index for biodiversity (0 = no biodiversity potential to 100 = maximum)', 'Current account balance (% of GDP)', 'Current account balance (BoP, current US$)', 'Net capital account (BoP, current US$)', 'Net errors and omissions (BoP, current US$)', 'Net financial account (BoP, current US$)', 'Net primary income (BoP, current US$)', 'Net trade in goods (BoP, current US$)', 'Net trade in goods and services (BoP, current US$)', 'Portfolio Investment, net (BoP, current US$)', 'Reserves and related items (BoP, current US$)', 'Survey mean consumption or income per capita, bottom 40% of population (2005 PPP $ per day)', 'Survey mean consumption or income per capita, total population (2005 PPP $ per day)', 'Bribery incidence (% of firms experiencing at least one bribe payment request)', 'Net official flows from UN agencies, IAEA (current US$)', 'Firms competing against unregistered firms (% of firms)', 'Power outages in firms in a typical month (number)', 'Value lost due to electrical outages (% of sales)', 'Firms formally registered when operations started (% of firms)', 'Burden of customs procedure, WEF (1=extremely inefficient to 7=extremely efficient)', 'Lead time to export, median case (days)', 'Lead time to import, median case (days)', 'Logistics performance index: Ability to track and trace consignments (1=low to 5=high)', 'Logistics performance index: Competence and quality of logistics services (1=low to 5=high)', 'Logistics performance index: Ease of arranging competitively priced shipments (1=low to 5=high)', 'Logistics performance index: Efficiency of customs clearance process (1=low to 5=high)', 'Logistics performance index: Frequency with which shipments reach consignee within scheduled or expected time (1=low to 5=high)', 'Logistics performance index: Overall (1=low to 5=high)', 'Logistics performance index: Quality of trade and transport-related infrastructure (1=low to 5=high)', 'Quality of port infrastructure, WEF (1=extremely underdeveloped to 7=well developed and efficient by international standards)', 'Net official flows from UN agencies, UNPBF (current US$)', 'Firms with female top manager (% of firms)', 'Presence of peace keepers (number of troops, police, and military observers in mandate)', 'Net bilateral aid flows from DAC donors, Slovenia (current US$)', 'Net official flows from UN agencies, UNECE (current US$)', 'Distance to frontier score (0=lowest performance to 100=frontier)', 'Time required to get electricity (days)', 'Point-of-sale terminals (per 100,000 adults)', 'Net official flows from UN agencies, WHO (current US$)', 'Droughts, floods, extreme temperatures (% of population, average 1990-2009)', 'Annualized average growth rate in per capita real survey mean consumption or income, bottom 40% of population (%)', 'Annualized average growth rate in per capita real survey mean consumption or income, total population (%)', 'Access to non-solid fuel, rural (% of rural population)', 'Access to non-solid fuel, urban (% of urban population)', 'Disaster risk reduction progress score (1-5 scale; 5=best)', 'Depth of credit information index (0=low to 8=high)', 'Labor tax and contributions (% of commercial profits)', 'Profit tax (% of commercial profits)', 'Strength of legal rights index (0=weak to 12=strong)', 'Time to resolve insolvency (years)', 'Diabetes prevalence (% of population ages 20 to 79)', 'Ease of doing business index (1=most business-friendly regulations)', 'Other taxes payable by businesses (% of commercial profits)', 'Present value of external debt (current US$)', 'Present value of external debt (% of GNI)', 'Present value of external debt (% of exports of goods, services and primary income)', 'Bird species, threatened', 'Fish species, threatened', 'Mammal species, threatened', 'Plant species (higher), threatened']\n"
     ]
    },
    {
     "name": "stdout",
     "output_type": "stream",
     "text": [
      "no of indicator codes=  1344\n"
     ]
    }
   ],
   "source": [
    "# how many unique indicator names are there\n",
    "indicatorName=data['IndicatorName'].unique().tolist()\n",
    "        \n",
    "        \n",
    "print(\"\\n Indicator Names \\n\", indicatorName)\n",
    "# print(\"no of indicator names= \", len(indicatorName))\n",
    "\n",
    "# how many unique indicator codes are there\n",
    "indicatorCode=data['IndicatorCode'].unique().tolist()\n",
    "print(\"no of indicator codes= \", len(indicatorCode))"
   ]
  },
  {
   "cell_type": "code",
   "execution_count": 9,
   "id": "57b0ea8b",
   "metadata": {},
   "outputs": [
    {
     "name": "stdout",
     "output_type": "stream",
     "text": [
      "no of indicator codes=  56\n",
      "1960  to  2015\n"
     ]
    }
   ],
   "source": [
    "# how many years do we have\n",
    "noOfYears=data['Year'].unique().tolist()\n",
    "print(\"no of indicator codes= \", len(noOfYears))\n",
    "\n",
    "# Whats the range of years\n",
    "print(min(data[\"Year\"]),\" to \",max(data[\"Year\"]))"
   ]
  },
  {
   "cell_type": "markdown",
   "id": "3f3c2c9d",
   "metadata": {},
   "source": [
    "## Data Visualisation"
   ]
  },
  {
   "cell_type": "markdown",
   "id": "5b3e3c55",
   "metadata": {},
   "source": [
    "### Let us pick a country and an indicator to explore CO2 emissions per capita and the Philippines  \n",
    "### To select CO2 emissions for the Philippines, we wil take the intersection of 2 masks, one with all the rows that contain the string \"CO2 emissions\" and the other which contain all the rows containing the string \"Philippines\""
   ]
  },
  {
   "cell_type": "code",
   "execution_count": 10,
   "id": "c1768f75",
   "metadata": {},
   "outputs": [
    {
     "name": "stdout",
     "output_type": "stream",
     "text": [
      "(52, 6)\n"
     ]
    },
    {
     "data": {
      "text/html": [
       "<div>\n",
       "<style scoped>\n",
       "    .dataframe tbody tr th:only-of-type {\n",
       "        vertical-align: middle;\n",
       "    }\n",
       "\n",
       "    .dataframe tbody tr th {\n",
       "        vertical-align: top;\n",
       "    }\n",
       "\n",
       "    .dataframe thead th {\n",
       "        text-align: right;\n",
       "    }\n",
       "</style>\n",
       "<table border=\"1\" class=\"dataframe\">\n",
       "  <thead>\n",
       "    <tr style=\"text-align: right;\">\n",
       "      <th></th>\n",
       "      <th>CountryName</th>\n",
       "      <th>CountryCode</th>\n",
       "      <th>IndicatorName</th>\n",
       "      <th>IndicatorCode</th>\n",
       "      <th>Year</th>\n",
       "      <th>Value</th>\n",
       "    </tr>\n",
       "  </thead>\n",
       "  <tbody>\n",
       "    <tr>\n",
       "      <th>17652</th>\n",
       "      <td>Philippines</td>\n",
       "      <td>PHL</td>\n",
       "      <td>CO2 emissions (metric tons per capita)</td>\n",
       "      <td>EN.ATM.CO2E.PC</td>\n",
       "      <td>1960</td>\n",
       "      <td>0.317249</td>\n",
       "    </tr>\n",
       "    <tr>\n",
       "      <th>43475</th>\n",
       "      <td>Philippines</td>\n",
       "      <td>PHL</td>\n",
       "      <td>CO2 emissions (metric tons per capita)</td>\n",
       "      <td>EN.ATM.CO2E.PC</td>\n",
       "      <td>1961</td>\n",
       "      <td>0.321145</td>\n",
       "    </tr>\n",
       "    <tr>\n",
       "      <th>71508</th>\n",
       "      <td>Philippines</td>\n",
       "      <td>PHL</td>\n",
       "      <td>CO2 emissions (metric tons per capita)</td>\n",
       "      <td>EN.ATM.CO2E.PC</td>\n",
       "      <td>1962</td>\n",
       "      <td>0.368512</td>\n",
       "    </tr>\n",
       "    <tr>\n",
       "      <th>100093</th>\n",
       "      <td>Philippines</td>\n",
       "      <td>PHL</td>\n",
       "      <td>CO2 emissions (metric tons per capita)</td>\n",
       "      <td>EN.ATM.CO2E.PC</td>\n",
       "      <td>1963</td>\n",
       "      <td>0.395807</td>\n",
       "    </tr>\n",
       "    <tr>\n",
       "      <th>129065</th>\n",
       "      <td>Philippines</td>\n",
       "      <td>PHL</td>\n",
       "      <td>CO2 emissions (metric tons per capita)</td>\n",
       "      <td>EN.ATM.CO2E.PC</td>\n",
       "      <td>1964</td>\n",
       "      <td>0.428469</td>\n",
       "    </tr>\n",
       "    <tr>\n",
       "      <th>160421</th>\n",
       "      <td>Philippines</td>\n",
       "      <td>PHL</td>\n",
       "      <td>CO2 emissions (metric tons per capita)</td>\n",
       "      <td>EN.ATM.CO2E.PC</td>\n",
       "      <td>1965</td>\n",
       "      <td>0.452297</td>\n",
       "    </tr>\n",
       "    <tr>\n",
       "      <th>191960</th>\n",
       "      <td>Philippines</td>\n",
       "      <td>PHL</td>\n",
       "      <td>CO2 emissions (metric tons per capita)</td>\n",
       "      <td>EN.ATM.CO2E.PC</td>\n",
       "      <td>1966</td>\n",
       "      <td>0.505963</td>\n",
       "    </tr>\n",
       "    <tr>\n",
       "      <th>224466</th>\n",
       "      <td>Philippines</td>\n",
       "      <td>PHL</td>\n",
       "      <td>CO2 emissions (metric tons per capita)</td>\n",
       "      <td>EN.ATM.CO2E.PC</td>\n",
       "      <td>1967</td>\n",
       "      <td>0.555413</td>\n",
       "    </tr>\n",
       "    <tr>\n",
       "      <th>256986</th>\n",
       "      <td>Philippines</td>\n",
       "      <td>PHL</td>\n",
       "      <td>CO2 emissions (metric tons per capita)</td>\n",
       "      <td>EN.ATM.CO2E.PC</td>\n",
       "      <td>1968</td>\n",
       "      <td>0.658382</td>\n",
       "    </tr>\n",
       "    <tr>\n",
       "      <th>289896</th>\n",
       "      <td>Philippines</td>\n",
       "      <td>PHL</td>\n",
       "      <td>CO2 emissions (metric tons per capita)</td>\n",
       "      <td>EN.ATM.CO2E.PC</td>\n",
       "      <td>1969</td>\n",
       "      <td>0.657133</td>\n",
       "    </tr>\n",
       "    <tr>\n",
       "      <th>346155</th>\n",
       "      <td>Philippines</td>\n",
       "      <td>PHL</td>\n",
       "      <td>CO2 emissions (metric tons per capita)</td>\n",
       "      <td>EN.ATM.CO2E.PC</td>\n",
       "      <td>1970</td>\n",
       "      <td>0.692132</td>\n",
       "    </tr>\n",
       "    <tr>\n",
       "      <th>413154</th>\n",
       "      <td>Philippines</td>\n",
       "      <td>PHL</td>\n",
       "      <td>CO2 emissions (metric tons per capita)</td>\n",
       "      <td>EN.ATM.CO2E.PC</td>\n",
       "      <td>1971</td>\n",
       "      <td>0.748604</td>\n",
       "    </tr>\n",
       "    <tr>\n",
       "      <th>482492</th>\n",
       "      <td>Philippines</td>\n",
       "      <td>PHL</td>\n",
       "      <td>CO2 emissions (metric tons per capita)</td>\n",
       "      <td>EN.ATM.CO2E.PC</td>\n",
       "      <td>1972</td>\n",
       "      <td>0.697230</td>\n",
       "    </tr>\n",
       "    <tr>\n",
       "      <th>552031</th>\n",
       "      <td>Philippines</td>\n",
       "      <td>PHL</td>\n",
       "      <td>CO2 emissions (metric tons per capita)</td>\n",
       "      <td>EN.ATM.CO2E.PC</td>\n",
       "      <td>1973</td>\n",
       "      <td>0.808268</td>\n",
       "    </tr>\n",
       "    <tr>\n",
       "      <th>621894</th>\n",
       "      <td>Philippines</td>\n",
       "      <td>PHL</td>\n",
       "      <td>CO2 emissions (metric tons per capita)</td>\n",
       "      <td>EN.ATM.CO2E.PC</td>\n",
       "      <td>1974</td>\n",
       "      <td>0.760435</td>\n",
       "    </tr>\n",
       "    <tr>\n",
       "      <th>693789</th>\n",
       "      <td>Philippines</td>\n",
       "      <td>PHL</td>\n",
       "      <td>CO2 emissions (metric tons per capita)</td>\n",
       "      <td>EN.ATM.CO2E.PC</td>\n",
       "      <td>1975</td>\n",
       "      <td>0.787654</td>\n",
       "    </tr>\n",
       "    <tr>\n",
       "      <th>766911</th>\n",
       "      <td>Philippines</td>\n",
       "      <td>PHL</td>\n",
       "      <td>CO2 emissions (metric tons per capita)</td>\n",
       "      <td>EN.ATM.CO2E.PC</td>\n",
       "      <td>1976</td>\n",
       "      <td>0.827340</td>\n",
       "    </tr>\n",
       "    <tr>\n",
       "      <th>841946</th>\n",
       "      <td>Philippines</td>\n",
       "      <td>PHL</td>\n",
       "      <td>CO2 emissions (metric tons per capita)</td>\n",
       "      <td>EN.ATM.CO2E.PC</td>\n",
       "      <td>1977</td>\n",
       "      <td>0.842017</td>\n",
       "    </tr>\n",
       "    <tr>\n",
       "      <th>917403</th>\n",
       "      <td>Philippines</td>\n",
       "      <td>PHL</td>\n",
       "      <td>CO2 emissions (metric tons per capita)</td>\n",
       "      <td>EN.ATM.CO2E.PC</td>\n",
       "      <td>1978</td>\n",
       "      <td>0.835299</td>\n",
       "    </tr>\n",
       "    <tr>\n",
       "      <th>993305</th>\n",
       "      <td>Philippines</td>\n",
       "      <td>PHL</td>\n",
       "      <td>CO2 emissions (metric tons per capita)</td>\n",
       "      <td>EN.ATM.CO2E.PC</td>\n",
       "      <td>1979</td>\n",
       "      <td>0.827011</td>\n",
       "    </tr>\n",
       "    <tr>\n",
       "      <th>1073367</th>\n",
       "      <td>Philippines</td>\n",
       "      <td>PHL</td>\n",
       "      <td>CO2 emissions (metric tons per capita)</td>\n",
       "      <td>EN.ATM.CO2E.PC</td>\n",
       "      <td>1980</td>\n",
       "      <td>0.780641</td>\n",
       "    </tr>\n",
       "    <tr>\n",
       "      <th>1156918</th>\n",
       "      <td>Philippines</td>\n",
       "      <td>PHL</td>\n",
       "      <td>CO2 emissions (metric tons per capita)</td>\n",
       "      <td>EN.ATM.CO2E.PC</td>\n",
       "      <td>1981</td>\n",
       "      <td>0.711562</td>\n",
       "    </tr>\n",
       "    <tr>\n",
       "      <th>1241875</th>\n",
       "      <td>Philippines</td>\n",
       "      <td>PHL</td>\n",
       "      <td>CO2 emissions (metric tons per capita)</td>\n",
       "      <td>EN.ATM.CO2E.PC</td>\n",
       "      <td>1982</td>\n",
       "      <td>0.698999</td>\n",
       "    </tr>\n",
       "    <tr>\n",
       "      <th>1327282</th>\n",
       "      <td>Philippines</td>\n",
       "      <td>PHL</td>\n",
       "      <td>CO2 emissions (metric tons per capita)</td>\n",
       "      <td>EN.ATM.CO2E.PC</td>\n",
       "      <td>1983</td>\n",
       "      <td>0.688288</td>\n",
       "    </tr>\n",
       "    <tr>\n",
       "      <th>1413022</th>\n",
       "      <td>Philippines</td>\n",
       "      <td>PHL</td>\n",
       "      <td>CO2 emissions (metric tons per capita)</td>\n",
       "      <td>EN.ATM.CO2E.PC</td>\n",
       "      <td>1984</td>\n",
       "      <td>0.586177</td>\n",
       "    </tr>\n",
       "    <tr>\n",
       "      <th>1500002</th>\n",
       "      <td>Philippines</td>\n",
       "      <td>PHL</td>\n",
       "      <td>CO2 emissions (metric tons per capita)</td>\n",
       "      <td>EN.ATM.CO2E.PC</td>\n",
       "      <td>1985</td>\n",
       "      <td>0.516329</td>\n",
       "    </tr>\n",
       "    <tr>\n",
       "      <th>1587832</th>\n",
       "      <td>Philippines</td>\n",
       "      <td>PHL</td>\n",
       "      <td>CO2 emissions (metric tons per capita)</td>\n",
       "      <td>EN.ATM.CO2E.PC</td>\n",
       "      <td>1986</td>\n",
       "      <td>0.523398</td>\n",
       "    </tr>\n",
       "    <tr>\n",
       "      <th>1676908</th>\n",
       "      <td>Philippines</td>\n",
       "      <td>PHL</td>\n",
       "      <td>CO2 emissions (metric tons per capita)</td>\n",
       "      <td>EN.ATM.CO2E.PC</td>\n",
       "      <td>1987</td>\n",
       "      <td>0.570274</td>\n",
       "    </tr>\n",
       "    <tr>\n",
       "      <th>1766123</th>\n",
       "      <td>Philippines</td>\n",
       "      <td>PHL</td>\n",
       "      <td>CO2 emissions (metric tons per capita)</td>\n",
       "      <td>EN.ATM.CO2E.PC</td>\n",
       "      <td>1988</td>\n",
       "      <td>0.641179</td>\n",
       "    </tr>\n",
       "    <tr>\n",
       "      <th>1858004</th>\n",
       "      <td>Philippines</td>\n",
       "      <td>PHL</td>\n",
       "      <td>CO2 emissions (metric tons per capita)</td>\n",
       "      <td>EN.ATM.CO2E.PC</td>\n",
       "      <td>1989</td>\n",
       "      <td>0.648134</td>\n",
       "    </tr>\n",
       "    <tr>\n",
       "      <th>1969037</th>\n",
       "      <td>Philippines</td>\n",
       "      <td>PHL</td>\n",
       "      <td>CO2 emissions (metric tons per capita)</td>\n",
       "      <td>EN.ATM.CO2E.PC</td>\n",
       "      <td>1990</td>\n",
       "      <td>0.674177</td>\n",
       "    </tr>\n",
       "    <tr>\n",
       "      <th>2085391</th>\n",
       "      <td>Philippines</td>\n",
       "      <td>PHL</td>\n",
       "      <td>CO2 emissions (metric tons per capita)</td>\n",
       "      <td>EN.ATM.CO2E.PC</td>\n",
       "      <td>1991</td>\n",
       "      <td>0.691713</td>\n",
       "    </tr>\n",
       "    <tr>\n",
       "      <th>2205606</th>\n",
       "      <td>Philippines</td>\n",
       "      <td>PHL</td>\n",
       "      <td>CO2 emissions (metric tons per capita)</td>\n",
       "      <td>EN.ATM.CO2E.PC</td>\n",
       "      <td>1992</td>\n",
       "      <td>0.749133</td>\n",
       "    </tr>\n",
       "    <tr>\n",
       "      <th>2328784</th>\n",
       "      <td>Philippines</td>\n",
       "      <td>PHL</td>\n",
       "      <td>CO2 emissions (metric tons per capita)</td>\n",
       "      <td>EN.ATM.CO2E.PC</td>\n",
       "      <td>1993</td>\n",
       "      <td>0.742368</td>\n",
       "    </tr>\n",
       "    <tr>\n",
       "      <th>2453946</th>\n",
       "      <td>Philippines</td>\n",
       "      <td>PHL</td>\n",
       "      <td>CO2 emissions (metric tons per capita)</td>\n",
       "      <td>EN.ATM.CO2E.PC</td>\n",
       "      <td>1994</td>\n",
       "      <td>0.803041</td>\n",
       "    </tr>\n",
       "    <tr>\n",
       "      <th>2586646</th>\n",
       "      <td>Philippines</td>\n",
       "      <td>PHL</td>\n",
       "      <td>CO2 emissions (metric tons per capita)</td>\n",
       "      <td>EN.ATM.CO2E.PC</td>\n",
       "      <td>1995</td>\n",
       "      <td>0.869338</td>\n",
       "    </tr>\n",
       "    <tr>\n",
       "      <th>2721650</th>\n",
       "      <td>Philippines</td>\n",
       "      <td>PHL</td>\n",
       "      <td>CO2 emissions (metric tons per capita)</td>\n",
       "      <td>EN.ATM.CO2E.PC</td>\n",
       "      <td>1996</td>\n",
       "      <td>0.870174</td>\n",
       "    </tr>\n",
       "    <tr>\n",
       "      <th>2857614</th>\n",
       "      <td>Philippines</td>\n",
       "      <td>PHL</td>\n",
       "      <td>CO2 emissions (metric tons per capita)</td>\n",
       "      <td>EN.ATM.CO2E.PC</td>\n",
       "      <td>1997</td>\n",
       "      <td>0.974200</td>\n",
       "    </tr>\n",
       "    <tr>\n",
       "      <th>2994689</th>\n",
       "      <td>Philippines</td>\n",
       "      <td>PHL</td>\n",
       "      <td>CO2 emissions (metric tons per capita)</td>\n",
       "      <td>EN.ATM.CO2E.PC</td>\n",
       "      <td>1998</td>\n",
       "      <td>0.927455</td>\n",
       "    </tr>\n",
       "    <tr>\n",
       "      <th>3135472</th>\n",
       "      <td>Philippines</td>\n",
       "      <td>PHL</td>\n",
       "      <td>CO2 emissions (metric tons per capita)</td>\n",
       "      <td>EN.ATM.CO2E.PC</td>\n",
       "      <td>1999</td>\n",
       "      <td>0.906593</td>\n",
       "    </tr>\n",
       "    <tr>\n",
       "      <th>3287613</th>\n",
       "      <td>Philippines</td>\n",
       "      <td>PHL</td>\n",
       "      <td>CO2 emissions (metric tons per capita)</td>\n",
       "      <td>EN.ATM.CO2E.PC</td>\n",
       "      <td>2000</td>\n",
       "      <td>0.940650</td>\n",
       "    </tr>\n",
       "    <tr>\n",
       "      <th>3438700</th>\n",
       "      <td>Philippines</td>\n",
       "      <td>PHL</td>\n",
       "      <td>CO2 emissions (metric tons per capita)</td>\n",
       "      <td>EN.ATM.CO2E.PC</td>\n",
       "      <td>2001</td>\n",
       "      <td>0.892560</td>\n",
       "    </tr>\n",
       "    <tr>\n",
       "      <th>3592391</th>\n",
       "      <td>Philippines</td>\n",
       "      <td>PHL</td>\n",
       "      <td>CO2 emissions (metric tons per capita)</td>\n",
       "      <td>EN.ATM.CO2E.PC</td>\n",
       "      <td>2002</td>\n",
       "      <td>0.877525</td>\n",
       "    </tr>\n",
       "    <tr>\n",
       "      <th>3746456</th>\n",
       "      <td>Philippines</td>\n",
       "      <td>PHL</td>\n",
       "      <td>CO2 emissions (metric tons per capita)</td>\n",
       "      <td>EN.ATM.CO2E.PC</td>\n",
       "      <td>2003</td>\n",
       "      <td>0.862127</td>\n",
       "    </tr>\n",
       "    <tr>\n",
       "      <th>3903272</th>\n",
       "      <td>Philippines</td>\n",
       "      <td>PHL</td>\n",
       "      <td>CO2 emissions (metric tons per capita)</td>\n",
       "      <td>EN.ATM.CO2E.PC</td>\n",
       "      <td>2004</td>\n",
       "      <td>0.875524</td>\n",
       "    </tr>\n",
       "    <tr>\n",
       "      <th>4078297</th>\n",
       "      <td>Philippines</td>\n",
       "      <td>PHL</td>\n",
       "      <td>CO2 emissions (metric tons per capita)</td>\n",
       "      <td>EN.ATM.CO2E.PC</td>\n",
       "      <td>2005</td>\n",
       "      <td>0.868717</td>\n",
       "    </tr>\n",
       "    <tr>\n",
       "      <th>4256265</th>\n",
       "      <td>Philippines</td>\n",
       "      <td>PHL</td>\n",
       "      <td>CO2 emissions (metric tons per capita)</td>\n",
       "      <td>EN.ATM.CO2E.PC</td>\n",
       "      <td>2006</td>\n",
       "      <td>0.772812</td>\n",
       "    </tr>\n",
       "    <tr>\n",
       "      <th>4436160</th>\n",
       "      <td>Philippines</td>\n",
       "      <td>PHL</td>\n",
       "      <td>CO2 emissions (metric tons per capita)</td>\n",
       "      <td>EN.ATM.CO2E.PC</td>\n",
       "      <td>2007</td>\n",
       "      <td>0.783105</td>\n",
       "    </tr>\n",
       "    <tr>\n",
       "      <th>4616091</th>\n",
       "      <td>Philippines</td>\n",
       "      <td>PHL</td>\n",
       "      <td>CO2 emissions (metric tons per capita)</td>\n",
       "      <td>EN.ATM.CO2E.PC</td>\n",
       "      <td>2008</td>\n",
       "      <td>0.841041</td>\n",
       "    </tr>\n",
       "    <tr>\n",
       "      <th>4794786</th>\n",
       "      <td>Philippines</td>\n",
       "      <td>PHL</td>\n",
       "      <td>CO2 emissions (metric tons per capita)</td>\n",
       "      <td>EN.ATM.CO2E.PC</td>\n",
       "      <td>2009</td>\n",
       "      <td>0.816055</td>\n",
       "    </tr>\n",
       "    <tr>\n",
       "      <th>4979960</th>\n",
       "      <td>Philippines</td>\n",
       "      <td>PHL</td>\n",
       "      <td>CO2 emissions (metric tons per capita)</td>\n",
       "      <td>EN.ATM.CO2E.PC</td>\n",
       "      <td>2010</td>\n",
       "      <td>0.878135</td>\n",
       "    </tr>\n",
       "    <tr>\n",
       "      <th>5158709</th>\n",
       "      <td>Philippines</td>\n",
       "      <td>PHL</td>\n",
       "      <td>CO2 emissions (metric tons per capita)</td>\n",
       "      <td>EN.ATM.CO2E.PC</td>\n",
       "      <td>2011</td>\n",
       "      <td>0.867845</td>\n",
       "    </tr>\n",
       "  </tbody>\n",
       "</table>\n",
       "</div>"
      ],
      "text/plain": [
       "         CountryName CountryCode                           IndicatorName  \\\n",
       "17652    Philippines         PHL  CO2 emissions (metric tons per capita)   \n",
       "43475    Philippines         PHL  CO2 emissions (metric tons per capita)   \n",
       "71508    Philippines         PHL  CO2 emissions (metric tons per capita)   \n",
       "100093   Philippines         PHL  CO2 emissions (metric tons per capita)   \n",
       "129065   Philippines         PHL  CO2 emissions (metric tons per capita)   \n",
       "160421   Philippines         PHL  CO2 emissions (metric tons per capita)   \n",
       "191960   Philippines         PHL  CO2 emissions (metric tons per capita)   \n",
       "224466   Philippines         PHL  CO2 emissions (metric tons per capita)   \n",
       "256986   Philippines         PHL  CO2 emissions (metric tons per capita)   \n",
       "289896   Philippines         PHL  CO2 emissions (metric tons per capita)   \n",
       "346155   Philippines         PHL  CO2 emissions (metric tons per capita)   \n",
       "413154   Philippines         PHL  CO2 emissions (metric tons per capita)   \n",
       "482492   Philippines         PHL  CO2 emissions (metric tons per capita)   \n",
       "552031   Philippines         PHL  CO2 emissions (metric tons per capita)   \n",
       "621894   Philippines         PHL  CO2 emissions (metric tons per capita)   \n",
       "693789   Philippines         PHL  CO2 emissions (metric tons per capita)   \n",
       "766911   Philippines         PHL  CO2 emissions (metric tons per capita)   \n",
       "841946   Philippines         PHL  CO2 emissions (metric tons per capita)   \n",
       "917403   Philippines         PHL  CO2 emissions (metric tons per capita)   \n",
       "993305   Philippines         PHL  CO2 emissions (metric tons per capita)   \n",
       "1073367  Philippines         PHL  CO2 emissions (metric tons per capita)   \n",
       "1156918  Philippines         PHL  CO2 emissions (metric tons per capita)   \n",
       "1241875  Philippines         PHL  CO2 emissions (metric tons per capita)   \n",
       "1327282  Philippines         PHL  CO2 emissions (metric tons per capita)   \n",
       "1413022  Philippines         PHL  CO2 emissions (metric tons per capita)   \n",
       "1500002  Philippines         PHL  CO2 emissions (metric tons per capita)   \n",
       "1587832  Philippines         PHL  CO2 emissions (metric tons per capita)   \n",
       "1676908  Philippines         PHL  CO2 emissions (metric tons per capita)   \n",
       "1766123  Philippines         PHL  CO2 emissions (metric tons per capita)   \n",
       "1858004  Philippines         PHL  CO2 emissions (metric tons per capita)   \n",
       "1969037  Philippines         PHL  CO2 emissions (metric tons per capita)   \n",
       "2085391  Philippines         PHL  CO2 emissions (metric tons per capita)   \n",
       "2205606  Philippines         PHL  CO2 emissions (metric tons per capita)   \n",
       "2328784  Philippines         PHL  CO2 emissions (metric tons per capita)   \n",
       "2453946  Philippines         PHL  CO2 emissions (metric tons per capita)   \n",
       "2586646  Philippines         PHL  CO2 emissions (metric tons per capita)   \n",
       "2721650  Philippines         PHL  CO2 emissions (metric tons per capita)   \n",
       "2857614  Philippines         PHL  CO2 emissions (metric tons per capita)   \n",
       "2994689  Philippines         PHL  CO2 emissions (metric tons per capita)   \n",
       "3135472  Philippines         PHL  CO2 emissions (metric tons per capita)   \n",
       "3287613  Philippines         PHL  CO2 emissions (metric tons per capita)   \n",
       "3438700  Philippines         PHL  CO2 emissions (metric tons per capita)   \n",
       "3592391  Philippines         PHL  CO2 emissions (metric tons per capita)   \n",
       "3746456  Philippines         PHL  CO2 emissions (metric tons per capita)   \n",
       "3903272  Philippines         PHL  CO2 emissions (metric tons per capita)   \n",
       "4078297  Philippines         PHL  CO2 emissions (metric tons per capita)   \n",
       "4256265  Philippines         PHL  CO2 emissions (metric tons per capita)   \n",
       "4436160  Philippines         PHL  CO2 emissions (metric tons per capita)   \n",
       "4616091  Philippines         PHL  CO2 emissions (metric tons per capita)   \n",
       "4794786  Philippines         PHL  CO2 emissions (metric tons per capita)   \n",
       "4979960  Philippines         PHL  CO2 emissions (metric tons per capita)   \n",
       "5158709  Philippines         PHL  CO2 emissions (metric tons per capita)   \n",
       "\n",
       "          IndicatorCode  Year     Value  \n",
       "17652    EN.ATM.CO2E.PC  1960  0.317249  \n",
       "43475    EN.ATM.CO2E.PC  1961  0.321145  \n",
       "71508    EN.ATM.CO2E.PC  1962  0.368512  \n",
       "100093   EN.ATM.CO2E.PC  1963  0.395807  \n",
       "129065   EN.ATM.CO2E.PC  1964  0.428469  \n",
       "160421   EN.ATM.CO2E.PC  1965  0.452297  \n",
       "191960   EN.ATM.CO2E.PC  1966  0.505963  \n",
       "224466   EN.ATM.CO2E.PC  1967  0.555413  \n",
       "256986   EN.ATM.CO2E.PC  1968  0.658382  \n",
       "289896   EN.ATM.CO2E.PC  1969  0.657133  \n",
       "346155   EN.ATM.CO2E.PC  1970  0.692132  \n",
       "413154   EN.ATM.CO2E.PC  1971  0.748604  \n",
       "482492   EN.ATM.CO2E.PC  1972  0.697230  \n",
       "552031   EN.ATM.CO2E.PC  1973  0.808268  \n",
       "621894   EN.ATM.CO2E.PC  1974  0.760435  \n",
       "693789   EN.ATM.CO2E.PC  1975  0.787654  \n",
       "766911   EN.ATM.CO2E.PC  1976  0.827340  \n",
       "841946   EN.ATM.CO2E.PC  1977  0.842017  \n",
       "917403   EN.ATM.CO2E.PC  1978  0.835299  \n",
       "993305   EN.ATM.CO2E.PC  1979  0.827011  \n",
       "1073367  EN.ATM.CO2E.PC  1980  0.780641  \n",
       "1156918  EN.ATM.CO2E.PC  1981  0.711562  \n",
       "1241875  EN.ATM.CO2E.PC  1982  0.698999  \n",
       "1327282  EN.ATM.CO2E.PC  1983  0.688288  \n",
       "1413022  EN.ATM.CO2E.PC  1984  0.586177  \n",
       "1500002  EN.ATM.CO2E.PC  1985  0.516329  \n",
       "1587832  EN.ATM.CO2E.PC  1986  0.523398  \n",
       "1676908  EN.ATM.CO2E.PC  1987  0.570274  \n",
       "1766123  EN.ATM.CO2E.PC  1988  0.641179  \n",
       "1858004  EN.ATM.CO2E.PC  1989  0.648134  \n",
       "1969037  EN.ATM.CO2E.PC  1990  0.674177  \n",
       "2085391  EN.ATM.CO2E.PC  1991  0.691713  \n",
       "2205606  EN.ATM.CO2E.PC  1992  0.749133  \n",
       "2328784  EN.ATM.CO2E.PC  1993  0.742368  \n",
       "2453946  EN.ATM.CO2E.PC  1994  0.803041  \n",
       "2586646  EN.ATM.CO2E.PC  1995  0.869338  \n",
       "2721650  EN.ATM.CO2E.PC  1996  0.870174  \n",
       "2857614  EN.ATM.CO2E.PC  1997  0.974200  \n",
       "2994689  EN.ATM.CO2E.PC  1998  0.927455  \n",
       "3135472  EN.ATM.CO2E.PC  1999  0.906593  \n",
       "3287613  EN.ATM.CO2E.PC  2000  0.940650  \n",
       "3438700  EN.ATM.CO2E.PC  2001  0.892560  \n",
       "3592391  EN.ATM.CO2E.PC  2002  0.877525  \n",
       "3746456  EN.ATM.CO2E.PC  2003  0.862127  \n",
       "3903272  EN.ATM.CO2E.PC  2004  0.875524  \n",
       "4078297  EN.ATM.CO2E.PC  2005  0.868717  \n",
       "4256265  EN.ATM.CO2E.PC  2006  0.772812  \n",
       "4436160  EN.ATM.CO2E.PC  2007  0.783105  \n",
       "4616091  EN.ATM.CO2E.PC  2008  0.841041  \n",
       "4794786  EN.ATM.CO2E.PC  2009  0.816055  \n",
       "4979960  EN.ATM.CO2E.PC  2010  0.878135  \n",
       "5158709  EN.ATM.CO2E.PC  2011  0.867845  "
      ]
     },
     "execution_count": 10,
     "metadata": {},
     "output_type": "execute_result"
    }
   ],
   "source": [
    "# The (?i) below refers to the ignore case of regular expression\n",
    "hist_indicator=\"CO2 emissions \\(metric\"\n",
    "hist_country=\"(?i)philippines\"\n",
    "# data[\"isIndicatorName\"]=data[\"IndicatorName\"].str.contains(hist_indicator)\n",
    "# print(\"isIndicatorName \", data[\"isIndicatorName\"].value_counts())\n",
    "mask1=data[\"IndicatorName\"].str.contains(hist_indicator)\n",
    "\n",
    "\n",
    "# data[\"isCountryPhillipines\"]=data[\"CountryName\"].str.contains(hist_country)\n",
    "# print(\"isCountryPhillipines \", data[\"isCountryPhillipines\"].value_counts())\n",
    "mask2=data[\"CountryName\"].str.contains(hist_country)\n",
    "# mask2\n",
    "stage=data[mask1 & mask2]\n",
    "print(stage.shape)\n",
    "stage"
   ]
  },
  {
   "cell_type": "code",
   "execution_count": 11,
   "id": "91584eb8",
   "metadata": {},
   "outputs": [
    {
     "data": {
      "image/png": "[encoded data removed]",
      "text/plain": [
       "<Figure size 432x288 with 1 Axes>"
      ]
     },
     "metadata": {
      "needs_background": "light"
     },
     "output_type": "display_data"
    }
   ],
   "source": [
    "# let us see how emissions have changed over time\n",
    "years=stage[\"Year\"].values\n",
    "co2=stage[\"IndicatorName\"].values\n",
    "# print(co2)\n",
    "# plt.figure(figsize=(50, 30))\n",
    "\n",
    "plt.bar(years, co2)\n",
    "plt.show()"
   ]
  },
  {
   "cell_type": "code",
   "execution_count": 12,
   "id": "bd3ef42b",
   "metadata": {},
   "outputs": [
    {
     "data": {
      "image/png": "[encoded data removed]",
      "text/plain": [
       "<Figure size 432x288 with 1 Axes>"
      ]
     },
     "metadata": {
      "needs_background": "light"
     },
     "output_type": "display_data"
    }
   ],
   "source": [
    "\n",
    "plt.plot(stage[\"Year\"].values, stage['Value'].values)\n",
    "plt.xlabel(\"Year\")\n",
    "plt.ylabel(stage['IndicatorName'].iloc[0])\n",
    "\n",
    "plt.title(\"CO2 emissions in phillipines\")\n",
    "\n",
    "# start the yaxis at 0 and xaxis from 1959\n",
    "plt.axis([1959, 2011, 0, 25])\n",
    "plt.show()"
   ]
  },
  {
   "cell_type": "code",
   "execution_count": 13,
   "id": "ae964062",
   "metadata": {},
   "outputs": [
    {
     "name": "stdout",
     "output_type": "stream",
     "text": [
      "length of hst data , 52\n"
     ]
    },
    {
     "data": {
      "image/png": "[encoded data removed]",
      "text/plain": [
       "<Figure size 432x288 with 1 Axes>"
      ]
     },
     "metadata": {
      "needs_background": "light"
     },
     "output_type": "display_data"
    }
   ],
   "source": [
    "#Using Histograms to explore the distribution of values\n",
    "# we can also visualize the data as a histogram to better explore the ranges of values in CO2 production per year\n",
    "# If we want to just include those within one standard deviation for the mean, you could do the following \n",
    "# lower= stage[\"Value\"].mean()-stage[\"Value\"].std()\n",
    "# upper=stage[\"Value\"].mean()_stage[\"Value\"].std()\n",
    "# hist_data=[x for x in stage[:10000]['Value'] if x > lower and x < upper]\n",
    "# otherwise lets lok ar all the data\n",
    "\n",
    "\n",
    "\n",
    "hist_data=stage[\"Value\"].values\n",
    "# print(hist_data)\n",
    "print(\"length of hst data ,\", len(hist_data))\n",
    "\n",
    "plt.hist(hist_data, 10, density=False, facecolor=\"green\")\n",
    "plt.xlabel(stage[\"IndicatorName\"].iloc[0])\n",
    "plt.ylabel(\"# of years\")\n",
    "plt.title(\"Histogram example\")\n",
    "plt.grid(True)\n",
    "plt.show()"
   ]
  },
  {
   "cell_type": "code",
   "execution_count": 19,
   "id": "02556e78",
   "metadata": {},
   "outputs": [
    {
     "name": "stdout",
     "output_type": "stream",
     "text": [
      "no of countries 232\n"
     ]
    }
   ],
   "source": [
    "# Select co2 emissions for all countries\n",
    "hist_indicator=\"CO2 emissions \\(metric\"\n",
    "hist_year=2011\n",
    "mask1=data[\"IndicatorName\"].str.contains(hist_indicator)\n",
    "mask2=data[\"Year\"].isin([hist_year])\n",
    "\n",
    "co2_2011=data[mask1 & mask2]\n",
    "# co2_2011.head()\n",
    "\n",
    "# for how many countries do we have co2 per capita emissions data in 2011\n",
    "print(\"no of countries\", len(co2_2011))"
   ]
  },
  {
   "cell_type": "code",
   "execution_count": 20,
   "id": "5d15da6e",
   "metadata": {},
   "outputs": [
    {
     "data": {
      "image/png": "[encoded data removed]",
      "text/plain": [
       "<Figure size 432x288 with 1 Axes>"
      ]
     },
     "metadata": {
      "needs_background": "light"
     },
     "output_type": "display_data"
    }
   ],
   "source": [
    "# let us plot a histogram of the emissions per capita by country \n",
    "# subplots returns a tuple with the figure, axis attributes\n",
    "\n",
    "fig, ax= plt.subplots()\n",
    "ax.annotate(\"Philippines\", xy=(18, 5), xycoords='data', xytext=(18, 30), textcoords=\"data\", arrowprops=dict(arrowstyle = \"->\", connectionstyle=\"arc3\"))\n",
    "plt.hist(co2_2011[\"Value\"], 10, density=False, facecolor=\"green\")\n",
    "plt.xlabel(stage[\"IndicatorName\"].iloc[0])\n",
    "plt.ylabel(\"# of countries\")\n",
    "plt.title(\"Histogram of CO2 emissions per capita\")\n",
    "plt.grid(True)\n",
    "plt.show()"
   ]
  },
  {
   "cell_type": "markdown",
   "id": "001fc7df",
   "metadata": {},
   "source": [
    "## Basic Plotting part 2"
   ]
  },
  {
   "cell_type": "code",
   "execution_count": 23,
   "id": "afe1924d",
   "metadata": {},
   "outputs": [
    {
     "name": "stdout",
     "output_type": "stream",
     "text": [
      "GDP:          CountryName CountryCode                       IndicatorName  \\\n",
      "17689   Philippines         PHL  GDP per capita (constant 2005 US$)   \n",
      "43517   Philippines         PHL  GDP per capita (constant 2005 US$)   \n",
      "71554   Philippines         PHL  GDP per capita (constant 2005 US$)   \n",
      "100140  Philippines         PHL  GDP per capita (constant 2005 US$)   \n",
      "129112  Philippines         PHL  GDP per capita (constant 2005 US$)   \n",
      "\n",
      "         IndicatorCode  Year       Value  \n",
      "17689   NY.GDP.PCAP.KD  1960  696.020188  \n",
      "43517   NY.GDP.PCAP.KD  1961  710.984901  \n",
      "71554   NY.GDP.PCAP.KD  1962  720.605672  \n",
      "100140  NY.GDP.PCAP.KD  1963  746.610363  \n",
      "129112  NY.GDP.PCAP.KD  1964  747.958316  \n"
     ]
    }
   ],
   "source": [
    "# Relationship between GDP and CO2 emissions in Phillipines\n",
    "# select GDP per capita emissions for the United states\n",
    "\n",
    "hist_indicator=\"GDP per capita \\(constant 2005\"\n",
    "hist_country=\"(?i)philippines\"\n",
    "mask1=data[\"IndicatorName\"].str.contains(hist_indicator)\n",
    "mask2=data[\"CountryName\"].str.contains(hist_country)\n",
    "\n",
    "gdp_stage=data[mask1 & mask2]\n",
    "print(\"GDP: \", gdp_stage.head())"
   ]
  },
  {
   "cell_type": "code",
   "execution_count": 25,
   "id": "9f668721",
   "metadata": {},
   "outputs": [
    {
     "data": {
      "image/png": "[encoded data removed]",
      "text/plain": [
       "<Figure size 432x288 with 1 Axes>"
      ]
     },
     "metadata": {
      "needs_background": "light"
     },
     "output_type": "display_data"
    }
   ],
   "source": [
    "# Line Plot\n",
    "\n",
    "plt.plot(gdp_stage[\"Year\"].values, gdp_stage[\"Value\"].values)\n",
    "plt.xlabel(\"Year\")\n",
    "plt.ylabel(gdp_stage[\"IndicatorName\"].iloc[0])\n",
    "plt.title(\"GDP per capita Philippines\")\n",
    "plt.show()"
   ]
  },
  {
   "cell_type": "code",
   "execution_count": 29,
   "id": "c34f1d57",
   "metadata": {},
   "outputs": [
    {
     "name": "stdout",
     "output_type": "stream",
     "text": [
      "GDP min Year=  1960 \n",
      "GDP max year=  2014\n",
      "\n",
      " 52\n"
     ]
    }
   ],
   "source": [
    "# Scatterplot to compare GDP against CO2 emissions(per capita)\n",
    "# First, we will need to make sure we are looking at the same time frames\n",
    "print(\"GDP min Year= \", gdp_stage[\"Year\"].min(), \"\\nGDP max year= \", gdp_stage[\"Year\"].max())\n",
    "\n",
    "# We have 3 extra years of GDP data, so lets trim those off so the scatterplot has equal length arrays to compare\n",
    "# (this is actually required by scatter plot)\n",
    "\n",
    "\n",
    "gdp_stage_trunc=gdp_stage[gdp_stage[\"Year\"]<2012]\n",
    "print(\"\\n\", len(gdp_stage_trunc))\n",
    "\n"
   ]
  },
  {
   "cell_type": "code",
   "execution_count": 30,
   "id": "51e62e68",
   "metadata": {},
   "outputs": [
    {
     "data": {
      "image/png": "[encoded data removed]",
      "text/plain": [
       "<Figure size 432x288 with 1 Axes>"
      ]
     },
     "metadata": {
      "needs_background": "light"
     },
     "output_type": "display_data"
    }
   ],
   "source": [
    "fig, axis=plt.subplots()\n",
    "axis.yaxis.grid(True)\n",
    "axis.set_title(\"CO2 emissions vs. GDP (per capita)\", fontsize=10)\n",
    "axis.set_xlabel(gdp_stage_trunc[\"IndicatorName\"].iloc[0], fontsize=10)\n",
    "axis.set_ylabel(stage[\"IndicatorName\"].iloc[0], fontsize=10)\n",
    "X=gdp_stage_trunc[\"Value\"]\n",
    "Y=stage[\"Value\"]\n",
    "axis.scatter(X, Y)\n",
    "plt.show()"
   ]
  },
  {
   "cell_type": "code",
   "execution_count": 34,
   "id": "56dcb71f",
   "metadata": {},
   "outputs": [
    {
     "name": "stdout",
     "output_type": "stream",
     "text": [
      "[[1.         0.71103899]\n",
      " [0.71103899 1.        ]]\n"
     ]
    }
   ],
   "source": [
    "# This doesnot look like a strong relationship, we can test it by looking at correlation\n",
    "print(np.corrcoef(gdp_stage_trunc[\"Value\"], stage[\"Value\"]))"
   ]
  },
  {
   "cell_type": "code",
   "execution_count": null,
   "id": "ef8455af",
   "metadata": {},
   "outputs": [],
   "source": []
  }
 ],
 "metadata": {
  "kernelspec": {
   "display_name": "Python 3",
   "language": "python",
   "name": "python3"
  },
  "language_info": {
   "codemirror_mode": {
    "name": "ipython",
    "version": 3
   },
   "file_extension": ".py",
   "mimetype": "text/x-python",
   "name": "python",
   "nbconvert_exporter": "python",
   "pygments_lexer": "ipython3",
   "version": "3.8.8"
  }
 },
 "nbformat": 4,
 "nbformat_minor": 5
}
