{
 "cells": [
  {
   "cell_type": "markdown",
   "id": "45f5baae",
   "metadata": {},
   "source": [
    "we will be predicting the sentiment (positive or negative) of a single sentence taken from a review of a movie, restaurant or product. the dataset consists of 3000 labeled sentences, which we divide into a training set of size 2500 and test set of size 500. we have already used a logistic regression classifier. Now we will use a support vector machine."
   ]
  },
  {
   "cell_type": "code",
   "execution_count": 16,
   "id": "5f777920",
   "metadata": {},
   "outputs": [],
   "source": [
    "import numpy as np\n",
    "import string\n",
    "from sklearn import svm\n",
    "from sklearn.feature_extraction.text import CountVectorizer"
   ]
  },
  {
   "cell_type": "code",
   "execution_count": 8,
   "id": "59c65331",
   "metadata": {},
   "outputs": [],
   "source": [
    "with open(\"../data/full_set.txt\") as f:\n",
    "    content=f.readlines()\n",
    "    \n",
    "# remove leading and trailing white space:\n",
    "content=[x.strip() for x in content]"
   ]
  },
  {
   "cell_type": "code",
   "execution_count": 9,
   "id": "b92859e5",
   "metadata": {},
   "outputs": [],
   "source": [
    "# separate the sentences from the labels:\n",
    "sentences=[x.split(\"\\t\")[0] for x in content]\n",
    "labels=[x.split(\"\\t\")[1] for x in content]\n",
    "\n",
    "\n",
    "# transform the labels from '0 versus 1' to '-1 versus 1'\n",
    "y=np.array(labels, dtype='int8')\n",
    "y=(2*y)-1\n",
    "\n",
    "# let us define a function, \"full_remove\" that takes a string x and a list of characters from a \n",
    "# removal_list and returns with all the characters in removal_list replaced by ' ' \n",
    "\n",
    "def full_remove(x, removal_list):\n",
    "    for w in removal_list:\n",
    "        x=x.replace(w, ' ')\n",
    "    \n",
    "    return x\n",
    "\n",
    "# remove digits\n",
    "digits=[str(x) for x in range(10)]\n",
    "digit_less=[full_remove(x, digits) for x in sentences]\n",
    "    \n",
    "# remove punctuation\n",
    "punc_less=[full_remove(x, list(string.punctuation)) for x in digit_less]\n",
    "\n",
    "# make everything lowercase\n",
    "sents_lower=[x.lower() for x in punc_less]\n",
    "\n",
    "# define our stop words\n",
    "stop_set=set(['the', 'a', 'an', 'i', 'he', 'she', 'they', 'to', 'of', 'it', 'from'])\n",
    "\n",
    "# remove stop words\n",
    "sents_split=[x.split() for x in sents_lower]\n",
    "sents_processed=[\" \".join(list(filter(lambda a: a not in stop_set, x))) for x in sents_split]\n"
   ]
  },
  {
   "cell_type": "code",
   "execution_count": 12,
   "id": "fda45849",
   "metadata": {},
   "outputs": [],
   "source": [
    "# transform to bag of words representation\n",
    "vectorizer=CountVectorizer(analyzer=\"word\", tokenizer=None, preprocessor=None, stop_words=None, max_features=4500)\n",
    "data_features=vectorizer.fit_transform(sents_processed)"
   ]
  },
  {
   "cell_type": "code",
   "execution_count": 13,
   "id": "13b13268",
   "metadata": {},
   "outputs": [],
   "source": [
    "# append '1' to the end of each vector\n",
    "data_mat=data_features.toarray()"
   ]
  },
  {
   "cell_type": "code",
   "execution_count": 14,
   "id": "fa2794aa",
   "metadata": {},
   "outputs": [
    {
     "name": "stdout",
     "output_type": "stream",
     "text": [
      "train data:  (2500, 4500)\n",
      "test data:  (500, 4500)\n"
     ]
    }
   ],
   "source": [
    "np.random.seed(0)\n",
    "test_inds=np.append(np.random.choice((np.where(y==-1))[0], 250, replace=False), np.random.choice((np.where(y==1))[0], 250, replace=False))\n",
    "train_inds=list(set(range(len(labels)))-set(test_inds))\n",
    "train_data=data_mat[train_inds,]\n",
    "train_labels=y[train_inds]\n",
    "test_data=data_mat[test_inds,]\n",
    "test_labels=y[test_inds]\n",
    "\n",
    "print(\"train data: \", train_data.shape)\n",
    "print(\"test data: \", test_data.shape)"
   ]
  },
  {
   "cell_type": "markdown",
   "id": "db654b92",
   "metadata": {},
   "source": [
    "## Fitting a support vector machine to the data\n",
    "In support vector machines, we are given a set of examples and we want to find a weight vector that solves the optimization problem\n"
   ]
  },
  {
   "cell_type": "code",
   "execution_count": 17,
   "id": "0c9f2ab5",
   "metadata": {},
   "outputs": [
    {
     "name": "stdout",
     "output_type": "stream",
     "text": [
      "Error rate for C = 0.01: train 0.215 test 0.250\n",
      "Error rate for C = 0.10: train 0.074 test 0.174\n",
      "Error rate for C = 1.00: train 0.011 test 0.152\n"
     ]
    },
    {
     "name": "stderr",
     "output_type": "stream",
     "text": [
      "C:\\Anaconda3\\lib\\site-packages\\sklearn\\svm\\_base.py:985: ConvergenceWarning: Liblinear failed to converge, increase the number of iterations.\n",
      "  warnings.warn(\"Liblinear failed to converge, increase \"\n"
     ]
    },
    {
     "name": "stdout",
     "output_type": "stream",
     "text": [
      "Error rate for C = 10.00: train 0.002 test 0.188\n"
     ]
    },
    {
     "name": "stderr",
     "output_type": "stream",
     "text": [
      "C:\\Anaconda3\\lib\\site-packages\\sklearn\\svm\\_base.py:985: ConvergenceWarning: Liblinear failed to converge, increase the number of iterations.\n",
      "  warnings.warn(\"Liblinear failed to converge, increase \"\n"
     ]
    },
    {
     "name": "stdout",
     "output_type": "stream",
     "text": [
      "Error rate for C = 100.00: train 0.002 test 0.198\n"
     ]
    },
    {
     "name": "stderr",
     "output_type": "stream",
     "text": [
      "C:\\Anaconda3\\lib\\site-packages\\sklearn\\svm\\_base.py:985: ConvergenceWarning: Liblinear failed to converge, increase the number of iterations.\n",
      "  warnings.warn(\"Liblinear failed to converge, increase \"\n"
     ]
    },
    {
     "name": "stdout",
     "output_type": "stream",
     "text": [
      "Error rate for C = 1000.00: train 0.003 test 0.206\n",
      "Error rate for C = 10000.00: train 0.001 test 0.204\n"
     ]
    },
    {
     "name": "stderr",
     "output_type": "stream",
     "text": [
      "C:\\Anaconda3\\lib\\site-packages\\sklearn\\svm\\_base.py:985: ConvergenceWarning: Liblinear failed to converge, increase the number of iterations.\n",
      "  warnings.warn(\"Liblinear failed to converge, increase \"\n"
     ]
    }
   ],
   "source": [
    "def fit_classifier(C_value=1.0):\n",
    "    clf=svm.LinearSVC(C=C_value, loss=\"hinge\")\n",
    "    clf.fit(train_data, train_labels)\n",
    "    \n",
    "#     get predictions on training data\n",
    "    train_preds=clf.predict(train_data)\n",
    "    train_error=float(np.sum((train_preds>0.0)!=(train_labels>0.0))/len(train_labels))\n",
    "    \n",
    "#     get predictions on test data\n",
    "    test_preds=clf.predict(test_data)\n",
    "    test_error=float(np.sum((test_preds>0.0)!=(test_labels>0.0))/len(test_labels))\n",
    "    \n",
    "    return train_error, test_error\n",
    "\n",
    "\n",
    "c_vals=[0.01, 0.1, 1.0, 10.0, 100.0, 1000.0, 10000.0]\n",
    "for c in c_vals:\n",
    "    train_error, test_error=fit_classifier(c)\n",
    "    print(\"Error rate for C = %0.2f: train %0.3f test %0.3f\" % (c, train_error, test_error))\n",
    "    \n",
    "    "
   ]
  },
  {
   "cell_type": "markdown",
   "id": "606adc0b",
   "metadata": {},
   "source": [
    "### 3. Evaluating C by k-fold cross validation\n",
    "* As we can see that, the choice of C has very significant impact on the performance of the SVM classifier. We were able to assess this because we have a separate test set. In general however, this is a luxury we wont possess.\n",
    "* A reasonable way to estimate the error associated with a specific value of \"C\" is by K fold cross validation\n",
    "    * partition the training set into \"k\" equal sized subsets\n",
    "    * for i=1, 2, ...k, train a classifoer with parameter C\n",
    "        * average the errors \"e_1+e_2+e_3...e_k/k\"\n",
    "        \n",
    "* The following procedure, cross_validation_error, does exactly this. It takes an input:\n",
    "    * The training set x, y\n",
    "    * the value of C to be evaluated\n",
    "    * the integer K\n",
    "    \n",
    "* it returns the estimated error of the classifier for that particular setting of \"C\""
   ]
  },
  {
   "cell_type": "code",
   "execution_count": 20,
   "id": "3fecbe4b",
   "metadata": {},
   "outputs": [
    {
     "name": "stdout",
     "output_type": "stream",
     "text": [
      "Cross Validation Error: \n",
      "0.21577261809447557\n",
      "Cross Validation Error: \n",
      "0.19984003216671284\n",
      "Cross Validation Error: \n"
     ]
    },
    {
     "name": "stderr",
     "output_type": "stream",
     "text": [
      "C:\\Anaconda3\\lib\\site-packages\\sklearn\\svm\\_base.py:985: ConvergenceWarning: Liblinear failed to converge, increase the number of iterations.\n",
      "  warnings.warn(\"Liblinear failed to converge, increase \"\n"
     ]
    },
    {
     "name": "stdout",
     "output_type": "stream",
     "text": [
      "0.19471153846153844\n",
      "Cross Validation Error: \n"
     ]
    },
    {
     "name": "stderr",
     "output_type": "stream",
     "text": [
      "C:\\Anaconda3\\lib\\site-packages\\sklearn\\svm\\_base.py:985: ConvergenceWarning: Liblinear failed to converge, increase the number of iterations.\n",
      "  warnings.warn(\"Liblinear failed to converge, increase \"\n"
     ]
    },
    {
     "name": "stdout",
     "output_type": "stream",
     "text": [
      "0.20040080160320645\n",
      "Cross Validation Error: \n"
     ]
    },
    {
     "name": "stderr",
     "output_type": "stream",
     "text": [
      "C:\\Anaconda3\\lib\\site-packages\\sklearn\\svm\\_base.py:985: ConvergenceWarning: Liblinear failed to converge, increase the number of iterations.\n",
      "  warnings.warn(\"Liblinear failed to converge, increase \"\n"
     ]
    },
    {
     "name": "stdout",
     "output_type": "stream",
     "text": [
      "0.19486696787148594\n",
      "Cross Validation Error: \n"
     ]
    },
    {
     "name": "stderr",
     "output_type": "stream",
     "text": [
      "C:\\Anaconda3\\lib\\site-packages\\sklearn\\svm\\_base.py:985: ConvergenceWarning: Liblinear failed to converge, increase the number of iterations.\n",
      "  warnings.warn(\"Liblinear failed to converge, increase \"\n",
      "C:\\Anaconda3\\lib\\site-packages\\sklearn\\svm\\_base.py:985: ConvergenceWarning: Liblinear failed to converge, increase the number of iterations.\n",
      "  warnings.warn(\"Liblinear failed to converge, increase \"\n",
      "C:\\Anaconda3\\lib\\site-packages\\sklearn\\svm\\_base.py:985: ConvergenceWarning: Liblinear failed to converge, increase the number of iterations.\n",
      "  warnings.warn(\"Liblinear failed to converge, increase \"\n"
     ]
    },
    {
     "name": "stdout",
     "output_type": "stream",
     "text": [
      "0.18450301468902167\n",
      "Cross Validation Error: \n"
     ]
    },
    {
     "name": "stderr",
     "output_type": "stream",
     "text": [
      "C:\\Anaconda3\\lib\\site-packages\\sklearn\\svm\\_base.py:985: ConvergenceWarning: Liblinear failed to converge, increase the number of iterations.\n",
      "  warnings.warn(\"Liblinear failed to converge, increase \"\n",
      "C:\\Anaconda3\\lib\\site-packages\\sklearn\\svm\\_base.py:985: ConvergenceWarning: Liblinear failed to converge, increase the number of iterations.\n",
      "  warnings.warn(\"Liblinear failed to converge, increase \"\n"
     ]
    },
    {
     "name": "stdout",
     "output_type": "stream",
     "text": [
      "0.19745547860499627\n",
      "Cross Validation Error: \n"
     ]
    },
    {
     "name": "stderr",
     "output_type": "stream",
     "text": [
      "C:\\Anaconda3\\lib\\site-packages\\sklearn\\svm\\_base.py:985: ConvergenceWarning: Liblinear failed to converge, increase the number of iterations.\n",
      "  warnings.warn(\"Liblinear failed to converge, increase \"\n",
      "C:\\Anaconda3\\lib\\site-packages\\sklearn\\svm\\_base.py:985: ConvergenceWarning: Liblinear failed to converge, increase the number of iterations.\n",
      "  warnings.warn(\"Liblinear failed to converge, increase \"\n",
      "C:\\Anaconda3\\lib\\site-packages\\sklearn\\svm\\_base.py:985: ConvergenceWarning: Liblinear failed to converge, increase the number of iterations.\n",
      "  warnings.warn(\"Liblinear failed to converge, increase \"\n",
      "C:\\Anaconda3\\lib\\site-packages\\sklearn\\svm\\_base.py:985: ConvergenceWarning: Liblinear failed to converge, increase the number of iterations.\n",
      "  warnings.warn(\"Liblinear failed to converge, increase \"\n"
     ]
    },
    {
     "name": "stdout",
     "output_type": "stream",
     "text": [
      "0.18705273316009463\n"
     ]
    }
   ],
   "source": [
    "def cross_validation_error(x, y, C_value, k):\n",
    "    n=len(y)\n",
    "    indices=np.random.permutation(n)\n",
    "#     Initialize error\n",
    "    err=0.0\n",
    "#     Iterate over partitions\n",
    "    for i in range(k):\n",
    "#         partition indices\n",
    "        test_indices=indices[int(i*(n/k)):int((i+1)*(n/k)-1)]\n",
    "        train_indices=np.setdiff1d(indices, test_indices)\n",
    "#         Train classifier with parameter c\n",
    "        clf=svm.LinearSVC(C=C_value, loss=\"hinge\")\n",
    "        clf.fit(x[train_indices], y[train_indices])\n",
    "        \n",
    "#         get prediction on the test partition\n",
    "        preds=clf.predict(x[test_indices])\n",
    "    \n",
    "#         compute error\n",
    "        err+=float(np.sum((preds>0.0) != (y[test_indices]>0.0)))/len(test_indices)\n",
    "    return err/k\n",
    "\n",
    "\n",
    "for k in range(2, 10):\n",
    "    print(\"Cross Validation Error: \")\n",
    "    print(cross_validation_error(train_data, train_labels, 1.0, k))"
   ]
  },
  {
   "cell_type": "code",
   "execution_count": null,
   "id": "862a17a5",
   "metadata": {},
   "outputs": [],
   "source": []
  }
 ],
 "metadata": {
  "kernelspec": {
   "display_name": "Python 3",
   "language": "python",
   "name": "python3"
  },
  "language_info": {
   "codemirror_mode": {
    "name": "ipython",
    "version": 3
   },
   "file_extension": ".py",
   "mimetype": "text/x-python",
   "name": "python",
   "nbconvert_exporter": "python",
   "pygments_lexer": "ipython3",
   "version": "3.8.8"
  }
 },
 "nbformat": 4,
 "nbformat_minor": 5
}
