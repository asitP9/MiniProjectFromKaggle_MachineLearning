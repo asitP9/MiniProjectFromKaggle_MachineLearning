{
 "cells": [
  {
   "cell_type": "markdown",
   "id": "b1634f6b",
   "metadata": {},
   "source": [
    "we will be predicting the sentiment (positive or negative) of a single sentence taken from a review of a movie, restaurant or product. the dataset consists of 3000 labeled sentences, which we divide into a training set of size 2500 and test set of size 500. we have already used a logistic regression classifier. Now we will use a support vector machine."
   ]
  },
  {
   "cell_type": "raw",
   "id": "cc9a9c4d",
   "metadata": {},
   "source": [
    "with open(\"../data/full_set.txt\") as f:\n",
    "    content=f.readlines()\n",
    "    \n",
    "# remove leading and trailing white space:\n",
    "content=[x.strip() for x in content]"
   ]
  },
  {
   "cell_type": "code",
   "execution_count": null,
   "id": "7ff5f285",
   "metadata": {},
   "outputs": [],
   "source": [
    "# separate the sentences from the labels:\n",
    "sentences=[x.split(\"\\t\")[0] for x in content]\n",
    "labels=[x.split(\"\\t\")[1] for x in content]\n",
    "\n",
    "\n",
    "transform the labels from '0 '"
   ]
  }
 ],
 "metadata": {
  "kernelspec": {
   "display_name": "Python 3",
   "language": "python",
   "name": "python3"
  },
  "language_info": {
   "codemirror_mode": {
    "name": "ipython",
    "version": 3
   },
   "file_extension": ".py",
   "mimetype": "text/x-python",
   "name": "python",
   "nbconvert_exporter": "python",
   "pygments_lexer": "ipython3",
   "version": "3.8.8"
  }
 },
 "nbformat": 4,
 "nbformat_minor": 5
}
