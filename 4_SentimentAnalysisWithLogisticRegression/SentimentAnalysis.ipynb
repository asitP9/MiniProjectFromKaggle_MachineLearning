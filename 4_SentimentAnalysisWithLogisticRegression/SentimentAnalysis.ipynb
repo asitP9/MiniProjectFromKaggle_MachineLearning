{
 "cells": [
  {
   "cell_type": "markdown",
   "id": "386f44e6",
   "metadata": {},
   "source": [
    "1. The sentiment dataset consists of 3000 sentences which comes from reviews from \"imdb.com\", \"amazon.com\" and \"yelp.com\". Each sentence is labelled according to whether it comes from a positive review or a negative review.\n",
    "2. The dataset consists of 3000 sentences, each labelled '1' (if it comes from a positive review) or '-1'(if it comes from a negative review). \n",
    "3. we will use logistic regression to learn a classifier from this data.\n",
    "\n"
   ]
  },
  {
   "cell_type": "markdown",
   "id": "a85c4972",
   "metadata": {},
   "source": [
    "## Load and Preprocess the data"
   ]
  },
  {
   "cell_type": "code",
   "execution_count": 40,
   "id": "e1c5bd4b",
   "metadata": {},
   "outputs": [],
   "source": [
    "import numpy as np\n",
    "import warnings\n",
    "import string\n",
    "from sklearn.feature_extraction.text import CountVectorizer\n",
    "from sklearn.linear_model import SGDClassifier\n",
    "import matplotlib.pyplot as plt\n",
    "warnings.filterwarnings(\"ignore\")"
   ]
  },
  {
   "cell_type": "code",
   "execution_count": 19,
   "id": "b358b7d3",
   "metadata": {},
   "outputs": [],
   "source": [
    "with open(\"../data/full_set.txt\") as f:\n",
    "    content=f.readlines()"
   ]
  },
  {
   "cell_type": "code",
   "execution_count": 20,
   "id": "dfb1d609",
   "metadata": {},
   "outputs": [],
   "source": [
    "# remove leading and trailing whitespaces\n",
    "content=[x.strip() for x in content]"
   ]
  },
  {
   "cell_type": "code",
   "execution_count": 21,
   "id": "eda92b02",
   "metadata": {},
   "outputs": [],
   "source": [
    "# separate the sentences from the labels\n",
    "sentences=[x.split(\"\\t\")[0] for x in content]\n",
    "labels=[x.split(\"\\t\")[1] for x in content]\n",
    "\n",
    "# transform the label from '0 versus 1' to '-1 versus 1'\n",
    "y=np.array(labels, dtype='int8')\n",
    "y=2*y-1"
   ]
  },
  {
   "cell_type": "markdown",
   "id": "31b4a5d3",
   "metadata": {},
   "source": [
    "Preprocessing the text data\n",
    "* to transform this prediction problem into a linear classification, we will need to preprocess the text data. we will do 4 transformation:\n",
    "    * Remove punctuations and numbers\n",
    "    * transform all words to lowercase\n",
    "    * remove stop words\n",
    "    * convert the sentences into vectors, using a bag-of-word representation\n",
    "\n",
    "* we begin with first 2 steps"
   ]
  },
  {
   "cell_type": "code",
   "execution_count": 22,
   "id": "2344dab9",
   "metadata": {},
   "outputs": [],
   "source": [
    "# Full_remove takes a string x and a list of characters \"removal list\" and returns with all the characters \n",
    "# in removal list replaced by \" \"\n",
    "\n",
    "def full_remove(x, removal_list):\n",
    "    for w in removal_list:\n",
    "        x=x.replace(w, ' ')\n",
    "    return x\n",
    "\n",
    "digits=[str(x) for x in range(10)]\n",
    "\n",
    "digit_less=[full_remove(x, digits) for x in sentences]      # remove digits\n",
    "punc_less=[full_remove(x, list(string.punctuation)) for x in digit_less] # remove punctuation\n",
    "\n",
    "\n",
    "sents_lower=[x.lower() for x in punc_less] # make everything lowercase\n",
    "        "
   ]
  },
  {
   "cell_type": "code",
   "execution_count": 23,
   "id": "5ca8d70e",
   "metadata": {},
   "outputs": [
    {
     "data": {
      "text/plain": [
       "['so there is no way for me plug in here in us unless go by converter',\n",
       " 'good case excellent value',\n",
       " 'great for jawbone',\n",
       " 'tied charger for conversations lasting more than minutes major problems',\n",
       " 'mic is great',\n",
       " 'have jiggle plug get line up right get decent volume',\n",
       " 'if you have several dozen or several hundred contacts then imagine fun sending each them one by one',\n",
       " 'if you are razr owner you must have this',\n",
       " 'needless say wasted my money',\n",
       " 'what waste money and time']"
      ]
     },
     "execution_count": 23,
     "metadata": {},
     "output_type": "execute_result"
    }
   ],
   "source": [
    "# Stop words- stop words are the words that are filtered out because they are believed to contain no useful information\n",
    "# for the task at hand.\n",
    "# These usually include articles such as 'a' and 'the', pronouns such as 'i' and 'they' and prepositions such as 'to' and 'from'.\n",
    "\n",
    "stop_set=set(['the', 'a', 'an', 'i', 'he', 'she', 'they', 'to', 'of', 'it', 'from'])\n",
    "\n",
    "# remove stop words\n",
    "sents_split=[x.split() for x in sents_lower]\n",
    "sents_processed=[\" \".join(list(filter(lambda a: a not in stop_set, x))) for x in sents_split]\n",
    "\n",
    "# let us look at the sentences\n",
    "sents_processed[0:10]"
   ]
  },
  {
   "cell_type": "markdown",
   "id": "230dc3c2",
   "metadata": {},
   "source": [
    "## Bag of words\n",
    "* In order to use the linear classifiers on our dataset, we need to transform our textual data into numeric data. The \n",
    "classical way to do this is known as \"the bag of words\" representation.\n",
    "* In this representation, each word is thought of as corressponding to a number in \"{1, 2, ....V}\", where V is the size\n",
    "of our vocabulary. and each sentence is represented as a 'V' dimensional vector x, where xi is the no of times that word i \n",
    "occurs in the sentence.\n",
    "*To do this transformation, we will make use of the \"CountVectorizer\" class in scikit-learn. we will cap the no of features \n",
    "at 4500, meaning a word will make it into our vocabulary only if it is one of the 4500 most common words in the corpus. \n",
    "This is often a useful step as it can weed out spelling mistakes and words which occur too infrequently to be useful.\n",
    "* finally, we will also append a '1' to the end of each vector to allow our linear classifier to learn a bias term."
   ]
  },
  {
   "cell_type": "code",
   "execution_count": 30,
   "id": "32a48c03",
   "metadata": {},
   "outputs": [
    {
     "name": "stdout",
     "output_type": "stream",
     "text": [
      "Train data:  (2500, 4500)\n",
      "Test data:  (500, 4500)\n"
     ]
    }
   ],
   "source": [
    "# transform to bag of words representation\n",
    "vectorizer=CountVectorizer(analyzer=\"word\", tokenizer=None, preprocessor=None, stop_words=None, max_features=4500)\n",
    "data_features=vectorizer.fit_transform(sents_processed)\n",
    "\n",
    "# append 1 to the end of each vector\n",
    "data_mat=data_features.toarray()\n",
    "\n",
    "# Training/Test split : we split the data into a training set of 2500 sentences\n",
    "# and a test set of 500 sentences(of which 250 are positive and 250 are negative)\n",
    "# split the data into testng and training set\n",
    "np.random.seed(0)\n",
    "test_inds=np.append(np.random.choice((np.where(y==-1))[0], 250, replace=False), np.random.choice((np.where(y==1))[0], 250, replace=False))\n",
    "train_inds=list(set(range(len(labels)))-set(test_inds))\n",
    "train_data=data_mat[train_inds,]\n",
    "train_labels=y[train_inds]\n",
    "\n",
    "test_data=data_mat[test_inds,]\n",
    "test_labels=y[test_inds]\n",
    "\n",
    "print(\"Train data: \", train_data.shape)\n",
    "print(\"Test data: \", test_data.shape)"
   ]
  },
  {
   "cell_type": "markdown",
   "id": "a25a5aff",
   "metadata": {},
   "source": [
    "## Fitting a logistic regression model to the training data\n",
    "* We could implement our own logistic regression solver using stochastic gradient descent, but fortunately, there is already one built into \"scikit-learn\"\n",
    "* Due to the randomness in the Stochastic Gradient Descent procedure, different run can yield slightly different solutions. (and thus different error values) "
   ]
  },
  {
   "cell_type": "code",
   "execution_count": 35,
   "id": "cef953f9",
   "metadata": {},
   "outputs": [
    {
     "name": "stdout",
     "output_type": "stream",
     "text": [
      "Training Error:  0.0032\n",
      "Test Error:  0.182\n"
     ]
    }
   ],
   "source": [
    "# Fit logistic classifier on training data\n",
    "clf=SGDClassifier(loss=\"log\", penalty=\"None\")\n",
    "clf.fit(train_data, train_labels)\n",
    "\n",
    "# pull out the parameters (w, b) of the logistic regression models\n",
    "w=clf.coef_[0, :]\n",
    "b=clf.intercept_#\n",
    "print(\"Training Error: \", float(err_train)/len(train_labels))\n",
    "print(\"Test Error: \", float(err_test)/len(test_labels))"
   ]
  },
  {
   "cell_type": "markdown",
   "id": "41cacd28",
   "metadata": {},
   "source": [
    "## Analyse the margin\n",
    "* The logistic regression model produces not just classifications but also conditional probability estimates.\n",
    "* we will say that \"x\" has margin \"gamma\", if according to the logistic regression model  \n",
    "\"Pr(y=1|x)>(1/2)+gamma\" or \"Pr(y=1|x)<(1/2)-gamma\". The following function margin_counts takes an input as the classifier (\"clf\", computed earlier), the test set(\"test_data\"), and a value of \"gamma\", and computes hpw many points in the test set have margin of atleast \"gamma\"."
   ]
  },
  {
   "cell_type": "code",
   "execution_count": 41,
   "id": "5acb0506",
   "metadata": {},
   "outputs": [
    {
     "data": {
      "image/png": "[encoded data removed]",
      "text/plain": [
       "<Figure size 432x288 with 1 Axes>"
      ]
     },
     "metadata": {
      "needs_background": "light"
     },
     "output_type": "display_data"
    }
   ],
   "source": [
    "# return no of test points for which Pr(y=1) lies in [0, 0.5-gamma) or (0.5+gamma, 1]\n",
    "def margin_counts(clf, test_data, gamma):\n",
    "#     compute probability on each test point\n",
    "    preds=clf.predict_proba(test_data)[:, 1]\n",
    "#     find data points for which prediction is atleast gamma away from 0.5\n",
    "    margin_inds=np.where((preds>(0.5+gamma)) | (preds< (0.5-gamma)))[0]\n",
    "    return float(len(margin_inds))\n",
    "\n",
    "# lets visualize the test set distribution of margin_values\n",
    "gammas=np.arange(0, 0.5, 0.01)\n",
    "f=np.vectorize(lambda g: margin_counts(clf, test_data, g))\n",
    "plt.plot(gammas, f(gammas)/500.0, linewidth=2, color=\"green\")\n",
    "plt.xlabel(\"Margin\", fontsize=14)\n",
    "plt.ylabel(\"Fraction of points above margin\", fontsize=14)\n",
    "plt.show()\n",
    "    \n",
    "                                                                      "
   ]
  },
  {
   "cell_type": "code",
   "execution_count": 42,
   "id": "e652f38c",
   "metadata": {},
   "outputs": [
    {
     "data": {
      "image/png": "[encoded data removed]",
      "text/plain": [
       "<Figure size 432x288 with 1 Axes>"
      ]
     },
     "metadata": {
      "needs_background": "light"
     },
     "output_type": "display_data"
    }
   ],
   "source": [
    "# We investigate the natural question: are points x  with larger margin more likely to be classified correctly?\n",
    "# To identify this we define a function margin_errors that computes the fraction of points with margin atleast \n",
    "# \"gamma\" that are misclassified.\n",
    "# Return error of predictions that lie in intervals[0, 0.5-gamma) and (0.5+gamma, 1] \n",
    "\n",
    "def margin_errors(clf, test_data, test_labels, gamma):\n",
    "#     compute probability on each test point\n",
    "    preds=clf.predict_proba(test_data)[:, 1]\n",
    "#     Find data points for which prediction is at least a gamma away from 0.5\n",
    "    margin_inds=np.where((preds> (0.5+gamma))|(preds<(0.5-gamma)))[0]\n",
    "# Compute error on these data points\n",
    "    num_errors=np.sum((preds[margin_inds]>0.5)!=(test_labels[margin_inds]>0.0))\n",
    "    return float(num_errors)/len(margin_inds)\n",
    "    \n",
    "    \n",
    "#     Let us visualize the relationship between margin and error rates.\n",
    "#     Create grid of gamma values\n",
    "gammas=np.arange(0, 0.5, 0.01)\n",
    "# Compute margin_errors on test data for each value of g\n",
    "f=np.vectorize(lambda g: margin_errors(clf, test_data, test_labels, g))\n",
    "\n",
    "# plot the result\n",
    "plt.plot(gammas, f(gammas), linewidth=2)\n",
    "plt.ylabel(\"Error rate\", fontsize=14)\n",
    "plt.xlabel(\"Margin\", fontsize=14)\n",
    "plt.show()\n"
   ]
  },
  {
   "cell_type": "markdown",
   "id": "2e42c013",
   "metadata": {},
   "source": [
    "## Words with large influence\n",
    "* Finally an attempt to partially interpret the logistic regression model\n",
    "* which words are most important in deciding whether a sentence is positive? As a first approximation to this, \n",
    "we simply take the words whose  coefficients in \"w\" have the largest possible values\n",
    "* likewise, we look at the words whose coefficients in \"w\" have the most negative values, and we think of these \n",
    "as influential in negative prediction"
   ]
  },
  {
   "cell_type": "code",
   "execution_count": null,
   "id": "f8a93651",
   "metadata": {},
   "outputs": [],
   "source": [
    "# convert vocabulary into a list\n",
    "vocab=np.array([z[0] for z in sorted(vectorizer.vocabulary_.items(), key=lambda x:x[1])])\n",
    "\n",
    "# Get indices of sorting w\n",
    "inds=np.argsort(w)\n",
    "\n",
    "# Words with large negative values\n",
    "neg_inds=inds[0:50]\n",
    "print(\"Highly negative words: \")\n",
    "print([str(x) for x in list(vocab[neg_inds])])\n",
    "\n",
    "# words with large positive values\n",
    "pos_inds=inds[-49:-1]\n",
    "print(\"Highly positive words: \")\n",
    "print()"
   ]
  }
 ],
 "metadata": {
  "kernelspec": {
   "display_name": "Python 3",
   "language": "python",
   "name": "python3"
  },
  "language_info": {
   "codemirror_mode": {
    "name": "ipython",
    "version": 3
   },
   "file_extension": ".py",
   "mimetype": "text/x-python",
   "name": "python",
   "nbconvert_exporter": "python",
   "pygments_lexer": "ipython3",
   "version": "3.8.8"
  }
 },
 "nbformat": 4,
 "nbformat_minor": 5
}
